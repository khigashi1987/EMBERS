{
 "cells": [
  {
   "cell_type": "code",
   "execution_count": 21,
   "metadata": {},
   "outputs": [],
   "source": [
    "import numpy as np\n",
    "import pickle\n",
    "import plotly.express as px"
   ]
  },
  {
   "cell_type": "code",
   "execution_count": 59,
   "metadata": {},
   "outputs": [],
   "source": [
    "coords = pickle.load(open('./project_umap.pkl', 'rb'))"
   ]
  },
  {
   "cell_type": "code",
   "execution_count": 60,
   "metadata": {},
   "outputs": [],
   "source": [
    "def wrap_text(text_list, char_limit=30):\n",
    "    \"\"\" テキストリスト内の各テキストを指定の文字数で改行する \"\"\"\n",
    "    import textwrap\n",
    "    wrapped_text = [textwrap.fill(text, width=char_limit).replace('\\n', '<br>') for text in text_list]\n",
    "    return wrapped_text"
   ]
  },
  {
   "cell_type": "code",
   "execution_count": 61,
   "metadata": {},
   "outputs": [],
   "source": [
    "keyfindings = []\n",
    "for line in open('./project_keyfindings.txt'):\n",
    "    keyfindings.append(line.rstrip())"
   ]
  },
  {
   "cell_type": "code",
   "execution_count": 62,
   "metadata": {},
   "outputs": [],
   "source": [
    "wrapped_keyfindings = wrap_text(keyfindings)"
   ]
  },
  {
   "cell_type": "code",
   "execution_count": 63,
   "metadata": {},
   "outputs": [
    {
     "data": {
      "application/vnd.plotly.v1+json": {
       "config": {
        "plotlyServerURL": "https://plot.ly"
       },
       "data": [
        {
         "customdata": [
          [
           "PMC9791048: Infants with<br>failure to thrive (FTT)<br>exhibited underdeveloped gut<br>microbiota with disrupted<br>developmental trajectories and<br>significantly decreased<br>microbiota-for-age Z-scores."
          ],
          [
           "PMC9791053: The study found a<br>link between skin-gut<br>microorganisms and<br>androgenetic alopecia (AGA),<br>with more complex microbial<br>networks in individuals with<br>AGA compared to healthy<br>controls."
          ],
          [
           "PMC9791776: The study<br>successfully identified and<br>validated progressive fecal<br>microbiota gene markers for<br>diagnosing advanced adenoma<br>and colorectal cancer,<br>significantly improving<br>diagnostic performance when<br>combined with fecal<br>immunochemical test."
          ],
          [
           "PMC9793106: EDP1066<br>formulations did not affect<br>the immune response to KLH<br>immunization in healthy<br>individuals, but impacted ex<br>vivo whole blood LPS cytokine<br>response."
          ],
          [
           "PMC9794004: The study<br>identified specific gut<br>microbial alterations and<br>metabolic changes in pregnant<br>women with gestational<br>diabetes mellitus (GDM)<br>compared to those with normal<br>glucose tolerance, linking<br>these changes to clinical<br>parameters of glucose<br>metabolism."
          ],
          [
           "PMC9794034: Type 1 diabetes<br>patients with high-risk HLA<br>genotypes exhibited increased<br>abundances of Prevotella copri<br>and decreased abundances of<br>Parabacteroides distasonis,<br>along with differential serum<br>metabolites and lipids<br>involved in purine metabolism."
          ],
          [
           "PMC9795439: The study<br>investigates the long-term<br>impact of antibiotics and<br>probiotics on the health<br>outcomes of infants, focusing<br>on the development of<br>antibiotic resistance and<br>cognitive and behavioural<br>development."
          ],
          [
           "PMC9795652: The study<br>identified four distinct gut<br>microbiome clusters in an<br>Italian female cohort, which<br>correlated differently with<br>eating habits and behaviors<br>but not distinctly with weight<br>status."
          ],
          [
           "PMC9801562: Gut microbiota<br>dysbiosis in neonates with<br>CCHD is characterized by<br>depletion of Bifidobacterium<br>and overgrowth of<br>Enterococcus, correlating with<br>metabolomic perturbations and<br>poor surgical prognosis."
          ],
          [
           "PMC9803247: S. stercoralis<br>infection leads to only minor<br>alterations in the relative<br>abundance of individual<br>bacterial species in the human<br>gut, with no detectable effect<br>on community structure and<br>diversity."
          ],
          [
           "PMC9806127: The study found<br>significant differences in gut<br>microbiota composition between<br>two enterotypes in a confined<br>environment, correlating with<br>various health indicators like<br>uric acid, sleep, and mood."
          ],
          [
           "PMC9807070: Distinct gut<br>microbial signatures were<br>identified for different<br>levels of obesity, with<br>decreased microbial diversity<br>and specific microbial<br>biomarkers associated with<br>each obesity class."
          ],
          [
           "PMC9809927: Subjects with<br>IBS-D or IBS-U showed<br>significantly reduced<br>bacterial diversity, with<br>distinct bacterial signatures<br>and functional changes<br>associated with different IBS<br>subtypes, highlighting the<br>importance of personalized gut<br>microbiome modulation."
          ],
          [
           "PMC9809947: Prolonged exposure<br>to amoxicillin significantly<br>altered the fecal resistome<br>with increased antimicrobial<br>resistance gene load and<br>diversity, particularly beta-<br>lactam resistance, with<br>persistent changes up to 9<br>months post-treatment, while<br>the microbiome showed overall<br>recovery."
          ],
          [
           "PMC9810722: DNA/RNA Shield-<br>fecal collection tubes showed<br>the best performance in<br>preserving the taxonomic and<br>functional stability of the<br>microbiome over 18 months."
          ],
          [
           "PMC9814012: The study found<br>significant differences in the<br>gut microbiota between AUD<br>patients and healthy controls,<br>with specific microbiota<br>related to alcohol intake and<br>cognitive function."
          ],
          [
           "PMC9814178: Significant<br>differences in gut microbiota<br>between multiple sclerosis<br>patients and healthy controls<br>were found, with specific<br>bacterial species associated<br>with disease activity and<br>inflammation markers."
          ],
          [
           "PMC9816055: No significant<br>difference in gut microbiota<br>composition was observed<br>between AAA patients and<br>controls, except for a<br>significantly lower abundance<br>of Bifidobacterium<br>adolescentis in the AAA group."
          ],
          [
           "PMC9816096: Severe, short-term<br>sleep restriction reduced the<br>richness of the gut microbiota<br>but did not significantly<br>impact overall community<br>composition or intestinal<br>permeability in healthy young<br>men."
          ],
          [
           "PMC9817375: Adverse<br>alterations in gut microbiome<br>composition are associated<br>with higher insulin<br>resistance, longer diabetes<br>duration, and presence in<br>individuals using diabetes<br>medications, with significant<br>reductions in butyrate-<br>producing bacteria."
          ],
          [
           "PMC9817783: The study<br>identified microbial taxa and<br>metabolic features in fecal<br>samples that are significantly<br>associated with colorectal<br>cancer, using 16S rRNA gene<br>amplicon analysis and machine<br>learning to enhance predictive<br>accuracy for CRC screening."
          ],
          [
           "PMC9819204: The study<br>identified an inverse<br>association between body mass<br>index and the gut microbiome,<br>highlighting Bacteroides,<br>Clostridium, Prevotella, and<br>Ruminococcus as key genera<br>negatively associated with<br>BMI."
          ],
          [
           "PMC9822983: The study<br>identified distinct<br>taxonomical and immunological<br>signatures associated with<br>perceived stress levels in<br>pregnant women, suggesting<br>that gut microbiome and immune<br>factors may modulate neural<br>plasticity and increase self-<br>efficacy during pregnancy."
          ],
          [
           "PMC9830758: IBS is<br>characterized by a multi-omics<br>microbial signature indicating<br>increased capacity to utilize<br>fermentable carbohydrates,<br>with distinct profiles for IBS<br>subtypes and novel metabolites<br>and pathways identified."
          ],
          [
           "PMC9832664: Bile acids and<br>arachidonic acid metabolism<br>were disturbed in CIDP<br>subjects, potentially<br>influenced by gut microbial<br>dysbiosis, with specific<br>opportunistic pathogens more<br>abundant in CIDP subjects."
          ],
          [
           "PMC9834383: Breast cancer<br>patients from the Midwestern<br>United States exhibited gut<br>dysbiosis with reduced levels<br>of short-chain fatty acid-<br>producing bacteria compared to<br>healthy controls."
          ],
          [
           "PMC9835027: No significant<br>differences in alpha and beta<br>diversities among episodic<br>migraine, chronic migraine,<br>and control groups, but<br>significant differences in<br>microbiota composition at<br>various taxonomic levels and<br>associations with headache<br>frequency and severity."
          ],
          [
           "PMC9837561: The study<br>developed a novel pipeline,<br>MeRRCI, which revealed that<br>current antibiotic treatments<br>contribute to gut dysbiosis in<br>preterm infants, promoting<br>pathobiont proliferation and<br>specific antibacterial<br>resistance."
          ],
          [
           "PMC9837590: The study found<br>that patients with Alopecia<br>Areata (AA) exhibited an<br>overrepresentation of<br>Firmicutes and Proteobacteria,<br>suggesting a disturbed<br>microflora and a decrease in<br>overall microbial richness and<br>taxonomic diversity."
          ],
          [
           "PMC9840001: Nut consumption<br>significantly improved<br>cognitive function in terms of<br>accuracy and speed on a<br>picture recognition task in<br>healthy nonelderly adults."
          ],
          [
           "PMC9840338: Pediatric CD<br>progressors have a distinct<br>gut microbiota composition,<br>plasma metabolome, and<br>cytokine profile before<br>diagnosis, with TDCA feeding<br>alone stimulating an<br>inflammatory immune response<br>and causing villous atrophy in<br>mice."
          ],
          [
           "PMC9840915: Analysis of gut<br>microbe-derived extracellular<br>vesicles (EVs) is more<br>effective at differentiating<br>patients with inflammatory<br>bowel disease (IBD) from<br>healthy controls compared to<br>stool microbiome analysis<br>alone."
          ],
          [
           "PMC9841652: Patients with<br>Celiac Disease (CD) showed the<br>most dissimilarity in gut<br>microbiota compared to other<br>groups, with a higher relative<br>abundance of Firmicutes and a<br>significant alteration in the<br>Firmicutes to Bacteroidetes<br>ratio."
          ],
          [
           "PMC9845923: Significant<br>differences in gut microbiota<br>and metabolites were observed<br>at different stages of HIV<br>infection, with pathogenic<br>bacteria associated with HIV<br>severity and disrupted<br>tryptophan metabolism."
          ],
          [
           "PMC9846273: PE patients<br>demonstrated gut microbiota<br>disturbances with lower<br>microbial α diversity and<br>higher proinflammatory factors<br>compared to healthy controls."
          ],
          [
           "PMC9848239: The study found<br>differences in gut microbiota<br>between high and low vascular<br>calcification groups in<br>hemodialysis patients, with<br>Escherichia-Shigella and<br>Ruminococcus showing<br>significant correlations with<br>vascular calcification."
          ],
          [
           "PMC9849375: The study found<br>that acupuncture can influence<br>clinical outcomes related to<br>alcohol withdrawal in AUD<br>patients by modulating the gut<br>microbiome and metabolomics."
          ],
          [
           "PMC9851210: Individuals with<br>trait anxiety had lower<br>microbial diversity, and<br>specific microbial changes<br>were associated with PTSD,<br>depression, and anxiety<br>symptoms, influenced by<br>COVID-19 infection and<br>vaccination."
          ],
          [
           "PMC9852993: The study found a<br>significant correlation<br>between glycemic status,<br>systemic inflammation, and gut<br>microbiome composition in<br>Bhutanese refugee adults in<br>New Hampshire, highlighting<br>the influence of<br>proinflammatory taxa and<br>dietary fiber on metabolic<br>health."
          ],
          [
           "PMC9853283: Dietary patterns<br>related to metabolic syndrome<br>differ according to gut<br>microbial enterotypes among<br>Korean adults, with specific<br>patterns associated with<br>increased risks of metabolic<br>unhealthy status and<br>hyperglycemia."
          ],
          [
           "PMC9854132: Urolithin A intake<br>alters the gut microbiota,<br>increases alpha diversity, and<br>improves vascular endothelial<br>function, correlating with<br>individual gut microbiota<br>profiles."
          ],
          [
           "PMC9855101: Copra meal<br>hydrolysate (CMH) treatment in<br>Thai adults resulted in<br>beneficial effects on the gut<br>microbiome, identifying twelve<br>predominant bacterial species<br>and their metabolic routes<br>related to SCFAs biosynthesis."
          ],
          [
           "PMC9856008: SARS-CoV-2<br>infection exacerbates<br>microbiome changes in Type 2<br>Diabetes patients, leading to<br>higher levels of<br>Enterobacteriaceae, loss of<br>butyrate producers, and an<br>enrichment in fungi such as<br>Candida spp. and Aspergillus<br>spp."
          ],
          [
           "PMC9857880: Meat intake, both<br>red and white, was positively<br>correlated with specific gut<br>flora changes in Saudi Arabian<br>adult females, with variations<br>observed between those with<br>and without obesity."
          ],
          [
           "PMC9858991: Significant<br>differences in the prevalence,<br>diversity, and richness of<br>crAssphage subfamilies were<br>observed between obese<br>children and those with<br>obesity and metabolic<br>syndrome, suggesting a role in<br>the regulation of gut<br>bacterial ecosystems."
          ],
          [
           "PMC9860093: Increased<br>abundance of Fusobacterium or<br>Bifidobacterium in fecal<br>samples can be used as a<br>marker for colorectal cancer."
          ],
          [
           "PMC9860194: Machine learning<br>classification algorithms for<br>Crohn's Disease showed robust<br>performance across different<br>geographic regions in North<br>America, with the best results<br>from terminal ileum samples."
          ],
          [
           "PMC9861125: Significant<br>differences in alpha diversity<br>of gut microbiota were<br>observed between PCOS patients<br>and healthy women,<br>particularly in classic PCOS<br>phenotypes."
          ],
          [
           "PMC9861998: Microbiome<br>profiles, particularly<br>increased Fusobacterium in<br>tissues and specific fecal<br>microbes, were significantly<br>associated with mesenteric<br>lymph node involvement and T<br>cell infiltration in<br>colorectal cancer patients."
          ],
          [
           "PMC9862486: Increasing protein<br>intake in older adults to 1.2<br>g/kg aBW/day does not<br>negatively impact the gut<br>microbiota or suppress<br>appetite."
          ],
          [
           "PMC9864113: Laparoscopic<br>Sleeve Gastrectomy (LSG) in<br>obese individuals results in<br>improved metabolic profiles<br>and changes in gut microbiota<br>composition, though not<br>equivalent to those of normal<br>weight."
          ],
          [
           "PMC9866083: The study<br>characterized the gut<br>microbiota of urban Thai<br>adults, identifying distinct<br>enterotypes associated with<br>lifestyle and dietary habits,<br>and found significant<br>differences in microbial<br>diversity and function between<br>these enterotypes."
          ],
          [
           "PMC9869777: Increased<br>carbohydrate intake in amateur<br>cyclists did not significantly<br>alter gut microbiota or fecal<br>pH compared to the control<br>group."
          ],
          [
           "PMC9870247: The treatment with<br>a multispecies probiotic<br>formulation significantly<br>reduced the number of days<br>with constipation and other<br>gastrointestinal symptoms<br>following colonoscopy."
          ],
          [
           "PMC9870743: The study found<br>significant differences in gut<br>microbiota composition between<br>patients with mild and severe<br>cancer-related fatigue, with<br>mild CRF associated with anti-<br>inflammatory taxa and severe<br>CRF associated with pro-<br>inflammatory taxa."
          ],
          [
           "PMC9874095: SLE patients<br>exhibited a significant<br>decrease in gut viral<br>diversity and considerable<br>alterations in the overall gut<br>virome composition compared to<br>healthy controls."
          ],
          [
           "PMC9874322: Sepsis patients<br>exhibited significant<br>differences in gut microbiota<br>composition compared to<br>healthy individuals, with<br>increased Proteobacteria and<br>decreased Firmicutes; fecal<br>microbiota transplantation<br>(FMT) and short-chain fatty<br>acids (SCFAs) improved<br>survival, reduced<br>inflammation, and restored gut<br>microbiota in a mouse model of<br>sepsis."
          ],
          [
           "PMC9880203: Distinct microbial<br>and metabolomic profiles were<br>identified between colorectal<br>cancer patients and healthy<br>controls, with specific<br>microbes and metabolites<br>showing strong correlations<br>and potential as biomarkers."
          ],
          [
           "PMC9880954: Successful dietary<br>therapy in pediatric Crohn's<br>disease patients led to a<br>shift towards healthy controls<br>in terms of bacterial<br>composition and metabotypes,<br>although complete correction<br>of dysbiosis was not achieved<br>within 12 weeks."
          ],
          [
           "PMC9881202: Diabetes and<br>metabolic syndrome are<br>associated with hepatic<br>steatosis severity in MAFLD<br>patients, and both conditions<br>are independently associated<br>with changes in the<br>microbiome."
          ],
          [
           "PMC9882014: Functional<br>alterations via LCFA<br>biosynthetic genes and<br>increases in antibiotic<br>resistance genes were observed<br>in the gut microbiota of<br>subjects with moderate-to-<br>severe asthma."
          ],
          [
           "PMC9882682: Significantly<br>lower alpha diversity was<br>observed among cancer-free<br>Black women compared to all<br>other race-cancer status<br>combinations, and non-Hispanic<br>White CRC cases had higher<br>relative abundance of certain<br>bacteria compared to other<br>groups."
          ],
          [
           "PMC9882695: Less frequent<br>plastic bottle use was<br>associated with lower fecal<br>microbiota alpha Shannon<br>diversity and lower propionic<br>acid concentration at 3<br>months, and negatively<br>impacted length-for-age<br>z-scores at 12 months."
          ],
          [
           "PMC9884196: The study found<br>significant correlations<br>between certain gut microbiota<br>OTUs and nutritional status<br>markers like serum albumin and<br>pre-albumin in peritoneal<br>dialysis patients, suggesting<br>potential interventions with<br>probiotics and prebiotics."
          ],
          [
           "PMC9884692: No significant<br>differences were found in<br>bacterial diversity,<br>Bacteroidetes/Firmicutes<br>ratio, enterotype composition,<br>metagenome functional content,<br>or SCFA concentrations between<br>esports players and students;<br>however, significant<br>differences were observed in<br>specific bacterial species and<br>amino acids."
          ],
          [
           "PMC9888258: Black carbon<br>particles quantified in<br>prenatal and postnatal<br>biological matrices were<br>associated with reduced<br>diversity indices of the<br>childhood intestinal<br>microbiome."
          ],
          [
           "PMC9891498: The study<br>quantified the impact of<br>vitamin C on serum urate<br>levels in Hmong adults with<br>and without<br>gout/hyperuricemia, enhancing<br>understanding of how gut<br>microbiome and genomic<br>variants affect urate-lowering<br>effects of vitamin C and its<br>association with obesity and<br>gout/hyperuricemia."
          ],
          [
           "PMC9892008: The study detected<br>extensive bacterial strain<br>sharing across individuals,<br>with significant mother-to-<br>infant transmission and<br>patterns influenced by<br>cohabitation duration."
          ],
          [
           "PMC9894915: Fecal metabolites,<br>particularly butyric acid,<br>were found to significantly<br>associate with gut microbiota<br>and prevalent type 2 diabetes,<br>unlike their blood<br>counterparts."
          ],
          [
           "PMC9895076: The physical form<br>and location of fibers within<br>cell walls create niches that<br>enhance the growth of<br>beneficial gut bacteria and<br>increase butyrate production."
          ],
          [
           "PMC9896348: Long-term<br>traditional Tibetan Buddhist<br>meditation positively impacts<br>physical and mental health by<br>altering gut microbiota<br>composition, enriching<br>beneficial bacterial genera,<br>and reducing clinical risk<br>factors such as cholesterol."
          ],
          [
           "PMC9896942: The study<br>identified robust structural<br>patterns in the taxonomic<br>composition of healthy human<br>gut microbiomes, revealing<br>nested structures and distinct<br>ecological roles of microbes<br>and hosts."
          ],
          [
           "PMC9898251: Lung cancer<br>patients showed lower alpha-<br>diversity and higher between-<br>subject diversity compared to<br>healthy controls, with<br>specific taxa like<br>Clostridiales,<br>Lachnospiraceae, and<br>Faecalibacterium prausnitzii<br>being less abundant in lung<br>cancer patients. High<br>abundance of Akkermansia<br>muciniphila, Alistipes<br>onderdonkii, and Ruminococcus<br>correlated with durable<br>clinical benefit in these<br>patients."
          ],
          [
           "PMC9903723: The study<br>identified 19,084 prokaryotic<br>and 31,395 viral genomes from<br>Japanese gut metagenomes,<br>revealing population-specific<br>microbial features linked to<br>traditional Japanese diets and<br>significant associations<br>between crAss-like phages and<br>diseases."
          ],
          [
           "PMC9905522: The study<br>demonstrated that metabolic<br>labeling with fluorescent<br>oligosaccharides combined with<br>fluorescence-activated cell<br>sorting and sequencing<br>effectively identifies and<br>isolates gut bacteria in<br>healthy adults that consume<br>specific glycans, enhancing<br>understanding of glycan<br>metabolism in the gut<br>microbiota."
          ],
          [
           "PMC9907754: Early life events<br>and continuous exposure to<br>farm environments, including<br>animal sheds and farm milk<br>consumption, significantly<br>reduce the risk of hay fever<br>in children."
          ],
          [
           "PMC9908549: Dietary<br>intervention with a<br>psychobiotic diet resulted in<br>reductions of perceived stress<br>and significant changes in<br>specific fecal lipids and<br>urinary tryptophan<br>metabolites, though changes in<br>microbial composition and<br>function were subtle."
          ],
          [
           "PMC9909237: Liraglutide<br>treatment significantly<br>increased the diversity and<br>richness of the intestinal<br>bacterial community and had a<br>stronger correlation with<br>islet β-cell function, while<br>metformin treatment increased<br>the complexity and stability<br>of the intestinal bacterial<br>network and had a stronger<br>correlation with inflammation-<br>related factors."
          ],
          [
           "PMC9909917: IBD patients with<br>overweight/obesity showed<br>distinct serum and fecal<br>proteomic profiles compared to<br>healthy controls, with<br>specific microbial species<br>alterations and increased<br>microbial diversity in UC<br>patients with<br>overweight/obesity."
          ],
          [
           "PMC9910082: The multifractal<br>dimensions of an infant's gut<br>microbiomes can distinguish<br>age differences, indicating<br>that multifractal analysis is<br>a valuable tool in<br>understanding the development<br>of infants through changes in<br>gut microbiota."
          ],
          [
           "PMC9913170: Significant<br>taxonomic disparities were<br>observed between breast cancer<br>survivors and healthy<br>controls, with differences in<br>α-diversity and the<br>Firmicutes/Bacteroidetes<br>ratio."
          ],
          [
           "PMC9916458: Dystonia patients<br>showed higher abundances of<br>Ruminococcus torques and Dorea<br>formicigenerans, and a lower<br>abundance of Butyrivibrio<br>crossotus compared to<br>controls, with significant<br>neuro-active metabolic pathway<br>differences, particularly in<br>tryptophan degradation."
          ],
          [
           "PMC9917003: The study found no<br>significant changes in gut<br>microbiota biodiversity over 6<br>months of DMF treatment in MS<br>patients, but noted specific<br>microbial abundance changes<br>associated with DMF side<br>effects."
          ],
          [
           "PMC9918080: Probiotic<br>supplementation modulated the<br>gut microbiome, increased<br>plasma short-chain fatty<br>acids, and improved skin<br>biophysical properties and<br>acne in participants."
          ],
          [
           "PMC9919165: Significant<br>differences in bacterial<br>community distribution were<br>identified between normal<br>subjects and IDA patients,<br>with a notable decrease in<br>Faecalibacterium in IDA<br>patients, which recovered to<br>normal levels after iron<br>supplementation treatment."
          ],
          [
           "PMC9920253: Dietary intake<br>during pregnancy showed<br>variable influence on maternal<br>microbiota, with no<br>significant associations found<br>between diet quality or<br>composition and microbial<br>diversity, but specific macro-<br>and micronutrients may<br>influence microbial diversity<br>under certain pregnancy<br>conditions."
          ],
          [
           "PMC9921623: Consumption of<br>mixed tree nuts affects<br>tryptophan host and microbial<br>metabolism in overweight and<br>obese subjects, showing<br>changes in tryptophan<br>metabolism and no significant<br>microbial changes in<br>diversity."
          ],
          [
           "PMC9921707: Dietary<br>interventions, specifically a<br>Mediterranean diet followed by<br>a Canadian diet and then<br>Mediterranean diet again, led<br>to immediate and reversible<br>changes in plasma lipid<br>mediators and gut microbiota<br>composition, with initial<br>microbiome diversity reducing<br>the extent of microbiota<br>modulation."
          ],
          [
           "PMC9926762: Physical activity<br>and lifestyle associated with<br>athletes can modulate gut<br>microbiota composition,<br>enhancing microbes that<br>produce beneficial compounds<br>like SCFAs, which are linked<br>to improved physical<br>performance and health."
          ],
          [
           "PMC9927108: The gut microbiome<br>of osteoarthritis patients,<br>including bacteriome,<br>mycobiome, and virome, is<br>significantly altered compared<br>to healthy controls, with<br>distinct microbial and viral<br>signatures that may impact the<br>disease."
          ],
          [
           "PMC9927280: Aberrant gut<br>microbiota in CKD patients,<br>particularly enriched with<br>Klebsiella pneumoniae,<br>contributes to uremic<br>cardiomyopathy by inducing<br>expansion of IFNγ+ CD4+ T<br>cells in the heart."
          ],
          [
           "PMC9929340: The early-life gut<br>microbiome in infants<br>undergoes programmed assembly<br>unresponsive to interventions<br>aimed at improving growth,<br>with maternal HIV infection<br>linked to microbiome over-<br>diversification and reduced<br>Bifidobacterium abundance."
          ],
          [
           "PMC9939430: 16S amplicon<br>sequencing and shotgun<br>metagenomics provide<br>comparable taxonomic accuracy<br>for bacteria at the genus<br>level, but differ<br>significantly for fungal taxa.<br>Harmonizing these data types<br>allows for pooling into larger<br>datasets, maintaining<br>consistency across outcomes."
          ],
          [
           "PMC9940348: The study found<br>significant differences in the<br>composition of the gut<br>microbiota and serum<br>metabolite profiles between<br>patients with spinal cord<br>injury and healthy controls,<br>indicating that gut dysbiosis<br>and metabolite dysregulation<br>are associated with the<br>severity and duration of the<br>injury."
          ],
          [
           "PMC9940374: Synbiotic feeding<br>in infants led to a lower<br>abundance of Klebsiella,<br>higher abundance of<br>Bifidobacterium breve, and<br>increased anti-microbial<br>metabolite d-3-phenyllactic<br>acid, supporting its potential<br>in preventing infections."
          ],
          [
           "PMC9940757: IBD patients with<br>CDI exhibited pronounced<br>microbial dysbiosis,<br>characterized by decreased<br>bacterial alpha diversity,<br>significant bacterial and<br>fungal beta diversity<br>variations compared to healthy<br>controls, and specific<br>microbial and fungal taxa<br>overrepresentation."
          ],
          [
           "PMC9942320: Despite exercise<br>and nutritional interventions,<br>the respiratory and intestinal<br>microbiomes of patients with<br>cystic fibrosis remained<br>stable and were dominated by<br>disease-associated pathogens."
          ],
          [
           "PMC9942572: The study found<br>that Clostridium innocuum is a<br>highly prevalent and<br>genetically diverse species in<br>the human gut, with clade-<br>specific differences in<br>metabolism and potential<br>virulence."
          ],
          [
           "PMC9950735: The study found<br>differences in the species-<br>level diversity and metabolic<br>functions of Blautia in the<br>gut microbiota of Chinese<br>children with Down syndrome<br>compared to healthy controls,<br>impacting cognitive functions."
          ],
          [
           "PMC9950819: The infant gut<br>virome, primarily composed of<br>bacteriophages and human-host<br>viruses, evolves over the<br>first three years to resemble<br>the maternal virome in phage<br>composition but remains<br>distinct in human-host virus<br>composition."
          ],
          [
           "PMC9951051: Aging, chronic<br>polypharmacy, and<br>deprescribing differentially<br>affected the diversity and<br>composition of the gut<br>microbiome in mice, with<br>implications for frailty and<br>functional outcomes."
          ],
          [
           "PMC9951700: The gut microbiota<br>of captive blue sheep and red<br>deer in China changes with<br>growth stages, but dominant<br>flora remains stable;<br>significant inter-species<br>differences were observed."
          ],
          [
           "PMC9952780: Food-grade<br>nanoparticles (NPs) such as<br>TiO₂, SiO₂, ZnO, and Fe₂O₃<br>alter mineral transporter<br>expression, BBM functionality,<br>and pro-inflammatory cytokine<br>gene expression, affecting<br>intestinal development and<br>microbial populations in<br>broiler chickens."
          ],
          [
           "PMC9953204: The study found<br>significant differences in the<br>gut microbiota between<br>preeclamptic and healthy<br>pregnant women, with<br>variations in bacterial taxa<br>and fungal diversity linked to<br>BMI and gestational length."
          ],
          [
           "PMC9953218: Carvacrol<br>treatment in mice reduced<br>pathogen loads and alleviated<br>symptoms of<br>campylobacteriosis, including<br>bloody diarrhea, with less<br>inflammatory and apoptotic<br>responses in the colon."
          ],
          [
           "PMC9956601: Infections with<br>Opisthorchis viverrini,<br>Clonorchis sinensis, and<br>Opisthorchis felineus cause<br>species-specific qualitative<br>and quantitative changes in<br>the microbiota of bile and<br>colon feces of infected<br>hamsters."
          ],
          [
           "PMC9957911: Oral and<br>intravenous iron treatments<br>had differing impacts on the<br>gut microbiota of anemic<br>maintenance hemodialysis<br>patients, with oral iron<br>reducing microbial diversity<br>and altering metabolic<br>processes."
          ],
          [
           "PMC9958098: The study<br>identified three genera,<br>Anaerosporobacter, Candidatus<br>Stoquefichus, and<br>Fournierella, negatively<br>correlated with residual feed<br>intake (RFI) and positively<br>influencing feed efficiency in<br>laying hens."
          ],
          [
           "PMC9958568: Adding 400 mg/kg<br>Ile to the diet of broiler<br>chickens significantly<br>improved their production<br>performance and health status,<br>including higher body weight,<br>better feed conversion rate,<br>and improved serum biochemical<br>markers."
          ],
          [
           "PMC9959319: The study<br>demonstrated that antibiotic<br>treatment with doripenem and<br>meropenem alters the gut<br>microbiome and metabolomes in<br>Wistar rats, with observed<br>recovery and overcompensation<br>in microbial diversity and<br>metabolite levels post-<br>treatment."
          ],
          [
           "PMC9959971: Reduced alpha<br>diversity in patients with<br>osteoporosis and osteopenia<br>compared to healthy controls,<br>with significant differences<br>in bacterial genera and<br>interactions, suggesting<br>microbial community<br>interaction is crucial in<br>postmenopausal women with<br>these conditions."
          ],
          [
           "PMC9960910: Gut microbiota<br>plays a critical role in<br>cholestatic liver injury, with<br>reduced diversity and<br>increased Gram-negative<br>bacteria associated with<br>higher levels of liver injury<br>markers in AIMD-BDL mice."
          ],
          [
           "PMC9961083: Supplier-origin<br>microbiomes in mice were<br>associated with significant<br>differences in fetal growth<br>and adult intake, without<br>affecting fecal energy loss."
          ],
          [
           "PMC9962333: Ghanaian children<br>with acute gastroenteritis<br>(AGE) exhibit lower microbial<br>diversity and distinct<br>microbial profiles enriched<br>for disease-associated genera<br>compared to healthy controls."
          ],
          [
           "PMC9962547: Dietary components<br>are associated with the fecal<br>microbiome and metabolome, and<br>liver health in people living<br>with HIV, with specific<br>dietary elements correlating<br>with lower fibrosis scores."
          ],
          [
           "PMC9963782: Distinct and<br>diverse microbiomes were found<br>in right- and left-sided colon<br>cancers, with significant<br>changes in the stool<br>microbiome post-surgery,<br>including increased abundance<br>of potentially pathogenic<br>bacteria."
          ],
          [
           "PMC9964539: Shotgun<br>metagenomics did not detect<br>ESBL or carbapenemase<br>determinants among resistance<br>genes in patients previously<br>diagnosed with acute leukemia,<br>indicating true<br>decolonization."
          ],
          [
           "PMC9964965: The study<br>identified significant<br>differences in the microbial<br>composition of rumen and feces<br>between high and low RFI beef<br>cattle, with specific microbes<br>associated with dietary<br>nutrient utilization and host<br>gene expression."
          ],
          [
           "PMC9965051: Drinking tap water<br>was identified as the main<br>contributor to increased<br>potential antimicrobial<br>resistance signatures in the<br>Pakistani adult cohort."
          ],
          [
           "PMC9965947: The study found<br>significant inter-individual<br>variation in fungal diversity,<br>with Ascomycota and<br>Basidiomycota being the<br>dominant fungal phyla, and<br>identified positive<br>correlations between specific<br>fungi and bacteria, notably<br>between Malassezia restricta<br>and Bacteroides."
          ],
          [
           "PMC9966089: Lambs with higher<br>average daily gain (ADG)<br>showed increased maturity in<br>bacterial and fungal<br>communities and distinct<br>microbial biomarkers in the<br>rumen and rectum compared to<br>those with lower ADG."
          ],
          [
           "PMC9966493: The study<br>developed a reproducible model<br>for gut microbiota<br>conditioning and B. fragilis<br>engraftment in mice, showing<br>that specific antibiotic<br>treatments can effectively<br>deplete and then selectively<br>enrich Bacteroides in the gut."
          ],
          [
           "PMC9966595: The study found<br>seasonal variations in the gut<br>microbiota of muskrats, with<br>significant differences in<br>microbial composition and<br>metabolic functions between<br>the breeding and non-breeding<br>seasons."
          ],
          [
           "PMC9968942: Langurs in areas<br>with better habitats exhibited<br>higher gut microbiota<br>diversity, with significant<br>differences in the abundance<br>of specific bacterial families<br>between groups."
          ],
          [
           "PMC9969080: LDSPs were<br>degraded and utilized by human<br>gut microbiota, transforming<br>into short-chain fatty acids<br>and significantly decreasing<br>the pH of the fermentation<br>solution, with a targeted<br>promotion of butyrogenic<br>bacteria like Blautia,<br>Roseburia, and Bacteroides."
          ],
          [
           "PMC9970019: Lactobacillus<br>reuteri was significantly<br>reduced in the gut microbiota<br>of mice with hepatocellular<br>carcinoma (HCC), and<br>supplementation with L.<br>reuteri or fecal bacteria from<br>healthy mice could enhance<br>anticancer effects and<br>modulate immune responses."
          ],
          [
           "PMC9971763: No significant<br>differences in gut microbiota<br>diversity between psoriasis<br>patients and healthy controls,<br>but distinct compositional<br>differences were observed,<br>identifying potential<br>microbial biomarkers for<br>psoriasis."
          ],
          [
           "PMC9973153: Substituting more<br>than 30% of fish meal with soy<br>protein concentrate in diets<br>of juvenile large yellow<br>croaker leads to reduced<br>growth performance, altered<br>liver enzyme activities, and<br>changes in intestinal<br>microbiota."
          ],
          [
           "PMC9973283: Microbiome<br>features based on 16S rRNA<br>gene sequencing and<br>unsupervised stratification of<br>clinical parameters can<br>distinguish between different<br>glycometabolic states in<br>adults, showing specific<br>microbial associations with<br>glucose and insulin levels."
          ],
          [
           "PMC9974631: Patients with<br>different subtypes of chronic<br>constipation exhibited<br>distinct microbial<br>compositions, influenced<br>significantly by psychological<br>factors such as depression and<br>sleep quality."
          ],
          [
           "PMC9975432: The study observed<br>a shift in the dominant<br>Bacteroides strain and changes<br>in breath metabolite<br>composition in a patient's gut<br>microbiome before and after<br>antibiotic therapy."
          ],
          [
           "PMC9975759: Children with<br>higher IFN-γ levels exhibited<br>more severe autistic symptoms<br>and distinct gut microbiota<br>compositions, including<br>differences in metabolic<br>functions and specific<br>bacterial overrepresentations<br>and underrepresentations."
          ],
          [
           "PMC9977275: The study<br>demonstrates that both intra-<br>species polymorphism and<br>strain number in the human gut<br>microbiome are positively<br>correlated with community<br>Shannon diversity, supporting<br>the Diversity Begets Diversity<br>hypothesis."
          ],
          [
           "PMC9978182: Captive African<br>and Asian elephants on the<br>same diet have distinct gut<br>microbial communities, with<br>differences in bacterial<br>composition, gene abundance in<br>functional subcategories, and<br>antibiotic resistance genes."
          ],
          [
           "PMC9978850: No significant<br>differences in intestinal<br>flora diversity and richness<br>among Weining cattle, Healthy<br>Angus, and Diarrheal Angus;<br>higher abundance of beneficial<br>bacteria in Weining cattle."
          ],
          [
           "PMC9978934: High pH had a<br>larger impact than heat<br>treatment on the microbiota,<br>producing more rapid<br>transitional changes and<br>facilitating indigo reduction<br>from day 7 in all batches."
          ],
          [
           "PMC9979421: Gut microbial<br>composition in patients with<br>established rheumatoid<br>arthritis differs from healthy<br>individuals and can predict<br>responses to second-line<br>csDMARDs in some patients."
          ],
          [
           "PMC9979425: Irinotecan<br>treatment disrupts gut<br>microbiota in colon cancer<br>patients, but probiotics can<br>mitigate its toxic effects by<br>reducing β-glucuronidase<br>expression and oxidative<br>stress."
          ],
          [
           "PMC9979494: Fecal microbiome<br>diversity and composition in<br>Cynomys ludovicianus varied<br>significantly across urban and<br>rural habitats, with urban<br>areas showing reduced<br>diversity and higher abundance<br>of pathogenic bacteria."
          ],
          [
           "PMC9979504: The study<br>demonstrates a universal CRC-<br>associated microbiome pattern<br>but highlights regional<br>variations, showing closest<br>correlations with other Indian<br>cohorts."
          ],
          [
           "PMC9980007: The study found<br>that the type VI secretion<br>system (T6SS) is repeatedly<br>lost from the genomes of<br>Bacteroides fragilis in adults<br>compared to infants,<br>suggesting a significant<br>fitness cost to the T6SS,<br>which varies depending on the<br>surrounding microbial<br>community and their<br>susceptibility to T6SS<br>antagonism."
          ],
          [
           "PMC9980514: The gut microbiome<br>of partially breastfed Kenyan<br>infants over the age of six<br>months is enriched in<br>Bifidobacterium, including B.<br>infantis, with a high<br>prevalence of a specific human<br>milk oligosaccharide group<br>indicating a unique HMO-gut<br>microbiome association."
          ],
          [
           "PMC9980610: Probiotic<br>supplementation showed<br>participant-specific<br>improvements in triglycerides<br>and diastolic blood pressure<br>among adults with metabolic<br>syndrome, though overall<br>changes in metabolic syndrome<br>markers were not observed."
          ],
          [
           "PMC9980621: Waxy starches in<br>grains like sorghum, maize,<br>wheat, and rice can negatively<br>impact the human gut<br>microbiome and host<br>physiology, leading to<br>increased weight gain and loss<br>of beneficial microbial<br>signatures when compared to<br>wild type grains."
          ],
          [
           "PMC9980675: Distinctive<br>enterotypes in the fecal<br>microbiota of women from<br>different ethnic backgrounds<br>in New Zealand are associated<br>with body mass index, body fat<br>composition, and dietary<br>intake."
          ],
          [
           "PMC9980703: The presence of<br>the Bacteroides 2 enterotype<br>at baseline is associated with<br>long-term disability worsening<br>in MS patients, suggesting its<br>potential as a prognostic<br>biomarker."
          ],
          [
           "PMC9981464: The study<br>identified interactions<br>between host genetics and gut<br>microbiome, revealing that<br>ornithine lipids produced by<br>Akkermansia muciniphila have<br>immunomodulatory effects and<br>are influenced by host<br>genetics."
          ],
          [
           "PMC9981903: The study found<br>significant correlations<br>between antibiotic usage rates<br>and the abundance and<br>diversity of antimicrobial<br>resistance genes (ARGs) across<br>different countries, with<br>notable outliers such as<br>China."
          ],
          [
           "PMC9982119: Supplemental<br>probiotic therapy does not<br>reduce the risk of impaired<br>glucose tolerance (IGT)<br>conversion to type 2 diabetes<br>mellitus (T2DM) over 6 years."
          ],
          [
           "PMC9983350: The study found<br>dynamic changes in the<br>colonization of fecal<br>microbiota in preterm infants,<br>with specific bacterial groups<br>showing varying patterns of<br>abundance over time."
          ],
          [
           "PMC9983756: The study found<br>diurnal oscillations in the<br>gut microbiota of alcohol<br>dependence patients, with<br>significant differences in<br>β-diversity and specific<br>bacterial abundances compared<br>to healthy controls."
          ],
          [
           "PMC9984101: Significant<br>differences in gut microbiota<br>composition at the genus level<br>were observed between the<br>first and third trimesters of<br>pregnancy, with specific<br>genera correlated with normal<br>BMI."
          ],
          [
           "PMC9986023: Oral riboflavin<br>supplementation significantly<br>increased butyrate production<br>without major shifts in gut<br>microbiota composition, and<br>enhanced the complexity and<br>stability of the bacterial<br>network."
          ],
          [
           "PMC9986463: No significant<br>difference in alpha-diversity<br>of gut microbiota between<br>DLBCL patients and healthy<br>controls, but significant<br>decrease in beta-diversity and<br>specific bacterial abundances<br>correlated with immune status<br>and clinical features of<br>DLBCL."
          ],
          [
           "PMC9986626: The gut microbiota<br>composition significantly<br>differs between patients with<br>and without immune-related<br>adverse events (irAEs), and<br>major butyrate-producing<br>bacteria were less abundant in<br>patients with irAEs."
          ],
          [
           "PMC9987756: The study<br>identified two Korean oral<br>microbiome types and four<br>oral-gut-associated microbiome<br>types in healthy Korean<br>adults, demonstrating various<br>bacterial compositional<br>networks centered around<br>Streptococcus and Haemophilus."
          ],
          [
           "PMC9988748: Antibiotic<br>treatment in rats led to<br>dysbiosis, characterized by<br>changes in microbiome<br>structure and species<br>richness, with specific<br>alterations in Bacteroidetes<br>and Enterococcaceae<br>populations."
          ],
          [
           "PMC9990366: Supplementation of<br>lactating sows with BCAAs and<br>Arginine improved piglet<br>growth, immune competence, and<br>survivability by modulating<br>metabolism, colostrum and milk<br>compositions, and intestinal<br>microbiota."
          ],
          [
           "PMC9990496: The study found<br>that high-fat diet<br>significantly alters gut<br>microbiota, while sleep<br>deprivation primarily affects<br>the gut transcriptome, both of<br>which significantly impact the<br>brain's inflammatory system."
          ],
          [
           "PMC9990653: The study found<br>that improvements in water<br>supply infrastructure<br>significantly impacted the gut<br>microbiome composition and<br>reduced enteric pathogen<br>infections in infants."
          ],
          [
           "PMC9991858: Perilla oil intake<br>improves gut function and<br>microbiota in female athletes,<br>with higher doses resulting in<br>further improvement."
          ],
          [
           "PMC9992493: The study found<br>that the intake of a dog-treat<br>containing heme-SCP altered<br>the gut microbiota of dogs,<br>increasing the proportion of<br>Firmicutes and decreasing<br>Proteobacteria, Bacteroidetes,<br>and Fusobacteria."
          ],
          [
           "PMC9993198: Significant<br>differences in gut microbiome<br>composition were observed<br>between asthma patients and<br>healthy controls, with asthma<br>patients showing reduced<br>bacterial diversity and<br>dispersed community<br>compositions."
          ],
          [
           "PMC9994099: Captive deer mice<br>exhibit distinct gut<br>microbiota compared to free-<br>living deer mice, and urban<br>living influences gut<br>microbial composition and<br>diversity in deer mice."
          ],
          [
           "PMC9994484: In mdx mice, a<br>model of Duchenne muscular<br>dystrophy, gut microbiota<br>composition and metabolite<br>levels were significantly<br>altered compared to healthy<br>controls; sodium butyrate<br>supplementation restored<br>muscle strength and reduced<br>inflammation."
          ],
          [
           "PMC9994644: Cryptococcal<br>meningitis patients exhibited<br>distinct gut microbiota<br>dysbiosis compared to healthy<br>controls, with specific<br>bacterial and fungal species<br>differentially abundant."
          ],
          [
           "PMC9995389: Oral<br>administration of heat-treated<br>Lactiplantibacillus plantarum<br>OLL2712 in a high-fat diet-fed<br>mouse model alleviated<br>obesity-induced inflammation<br>and improved gut barrier<br>function."
          ],
          [
           "PMC9995838: Cecal microbiota<br>explained 10.1% of the<br>variation in chicken weights,<br>with specific bacterial genera<br>identified that positively or<br>negatively influenced growth."
          ],
          [
           "PMC9995840: High altitude<br>environments significantly<br>increase gut microbiota<br>diversity and drive<br>convergence among different<br>species, influenced by diet<br>and environmental pressures."
          ],
          [
           "PMC9996337: Individuals with<br>MA use disorder (MUD)<br>exhibited higher incidences of<br>neuropsychiatric and<br>withdrawal symptoms, stronger<br>cravings, and increased MA<br>tolerance compared to casual<br>MA users, with significant<br>differences in gut microbiota<br>composition, particularly in<br>the genera Halomonas,<br>Clostridium, Devosia, and<br>Dorea."
          ],
          [
           "PMC9996363: The maternal<br>prenatal gut microbiome has a<br>more significant association<br>with children's<br>neurodevelopment in the first<br>year of life compared to the<br>children's own gut microbiome."
          ],
          [
           "PMC9996666: Administration of<br>a prebiotic fiber supplement<br>during short-term metformin<br>therapy was well tolerated in<br>youth with type 2 diabetes<br>mellitus and associated with<br>modest shifts in microbial<br>composition."
          ],
          [
           "PMC9997005: IL-22 treatment<br>modulates gut microbiome<br>composition and function,<br>enhancing AhR signaling and<br>potentially offering<br>therapeutic benefits in<br>ulcerative colitis."
          ],
          [
           "PMC9997614: VIP signaling<br>through VPAC1 is critical for<br>maintaining normal gut<br>microbiota function, with<br>disruptions leading to<br>significant changes in<br>microbial diversity and<br>metabolic pathways."
          ],
          [
           "PMC9997628: Physical activity<br>was positively associated with<br>the abundance of<br>Faecalibacterium and<br>negatively with Alistipes,<br>Parabacteroides, and Gemmiger,<br>as well as with concentrations<br>of acetate, butyrate, and<br>total SCFA."
          ],
          [
           "PMC9998685: Repeated courses<br>and increased duration of<br>antibiotic use in pediatric<br>leukemia and lymphoma patients<br>led to a decrease in<br>Bacteroidetes and β-lactam<br>resistance genes, and an<br>increase in opportunistic<br>Firmicutes, Proteobacteria,<br>and multidrug resistance<br>genes."
          ],
          [
           "PMC9998695: The gut microbiota<br>of plateau zokors on the<br>Tibetan plateau is enriched in<br>species related to energy<br>metabolism and SCFAs<br>production, and shows<br>significant enrichment in<br>carbohydrate uptake pathways<br>and tripeptidyl-peptidase II,<br>aiding in energy uptake and<br>reducing inflammatory<br>responses under extreme<br>conditions."
          ],
          [
           "PMC9998913: The study<br>developed a workflow named<br>scALA to construct complete<br>circular single-cell amplified<br>genomes (cSAGs) from human<br>fecal samples, revealing<br>strain-specific structural<br>variations and different<br>metabolic capabilities among<br>strains."
          ],
          [
           "PMC9998919: Significant<br>differences in gut microbiota<br>were observed between control<br>individuals and heart failure<br>patients with or without<br>sarcopenia, with specific<br>bacterial groups enriched in<br>each patient category."
          ],
          [
           "PMC9998945: Supplementation<br>with SCFP stabilized alpha<br>diversity in horses' gut<br>microbiomes under stress,<br>compared to controls which<br>showed more fluctuation."
          ],
          [
           "PMC9999011: Seasonal factors<br>significantly affect<br>intestinal water metabolism<br>and the composition of<br>intestinal flora in rats, with<br>high temperature and humidity<br>increasing intestinal water<br>content and low temperature<br>and humidity decreasing it."
          ]
         ],
         "hovertemplate": " %{customdata[0]}",
         "legendgroup": "",
         "marker": {
          "color": "#636efa",
          "symbol": "circle"
         },
         "mode": "markers",
         "name": "",
         "orientation": "v",
         "showlegend": false,
         "type": "scatter",
         "x": [
          8.507306098937988,
          5.081929683685303,
          1.0320765972137451,
          6.3364410400390625,
          7.824035167694092,
          3.4508676528930664,
          9.428293228149414,
          10.055551528930664,
          8.05712604522705,
          5.673602104187012,
          10.252541542053223,
          9.533557891845703,
          6.544611930847168,
          10.844487190246582,
          1.0504618883132935,
          8.624848365783691,
          5.604189395904541,
          5.463818550109863,
          11.039122581481934,
          3.3329334259033203,
          1.1926648616790771,
          9.66527271270752,
          8.167287826538086,
          6.634763717651367,
          6.398746013641357,
          5.60859489440918,
          5.30370569229126,
          9.628874778747559,
          5.051565170288086,
          8.012228012084961,
          6.48421573638916,
          6.737968921661377,
          6.349921226501465,
          4.412844657897949,
          6.513478755950928,
          7.0665202140808105,
          8.668879508972168,
          9.268598556518555,
          11.193349838256836,
          10.154972076416016,
          9.316840171813965,
          6.124528884887695,
          3.3459436893463135,
          11.187850952148438,
          9.045351028442383,
          0.5454398989677429,
          1.0880391597747803,
          5.3107686042785645,
          0.6282340884208679,
          10.928153038024902,
          3.6104061603546143,
          10.252683639526367,
          10.804611206054688,
          4.849934101104736,
          5.752556800842285,
          5.683839321136475,
          6.064058780670166,
          1.1452491283416748,
          6.855220794677734,
          3.5144565105438232,
          5.923048973083496,
          5.107799530029297,
          7.941495418548584,
          7.163116931915283,
          10.501587867736816,
          7.901561260223389,
          11.09638786315918,
          8.715032577514648,
          3.112048864364624,
          4.426938533782959,
          8.176187515258789,
          10.232959747314453,
          5.10231876373291,
          9.233960151672363,
          1.644093632698059,
          9.364047050476074,
          8.007345199584961,
          3.6198973655700684,
          6.661164283752441,
          8.330698013305664,
          5.168353080749512,
          6.3760809898376465,
          5.491559982299805,
          4.355208396911621,
          6.815792560577393,
          7.968857765197754,
          7.860333442687988,
          7.722135543823242,
          8.796964645385742,
          5.273036479949951,
          6.717553615570068,
          8.434785842895508,
          1.8660321235656738,
          4.605403423309326,
          8.91860580444336,
          6.28845739364624,
          6.734217166900635,
          10.471583366394043,
          8.6268949508667,
          8.428364753723145,
          5.33024787902832,
          11.779648780822754,
          7.971374034881592,
          7.8353986740112305,
          5.244204998016357,
          5.830760478973389,
          6.766685962677002,
          10.984209060668945,
          8.373421669006348,
          10.108471870422363,
          5.312277317047119,
          5.8739013671875,
          8.012809753417969,
          6.43900203704834,
          4.0502190589904785,
          0.9604334831237793,
          11.068710327148438,
          11.280226707458496,
          10.586997032165527,
          5.13774299621582,
          11.171330451965332,
          10.364563941955566,
          10.55176067352295,
          12.15306568145752,
          4.577338218688965,
          5.26031494140625,
          5.426173686981201,
          8.265758514404297,
          1.8763233423233032,
          9.51483154296875,
          10.439411163330078,
          6.367056846618652,
          10.483122825622559,
          12.055566787719727,
          11.75411319732666,
          6.488514423370361,
          5.689776420593262,
          5.285472393035889,
          12.162803649902344,
          1.1738413572311401,
          10.315213203430176,
          8.763418197631836,
          4.065423011779785,
          11.31029987335205,
          10.138160705566406,
          5.557546615600586,
          10.263057708740234,
          10.867051124572754,
          3.8684959411621094,
          8.791009902954102,
          8.786845207214355,
          7.925314426422119,
          4.406540393829346,
          5.759898662567139,
          5.634740829467773,
          10.216390609741211,
          10.292102813720703,
          8.65853214263916,
          11.131256103515625,
          10.533248901367188,
          9.066545486450195,
          5.987277984619141,
          5.620507717132568,
          12.005825996398926,
          4.506659507751465,
          5.75349235534668,
          5.206432819366455,
          10.931941032409668,
          11.489375114440918,
          8.683753967285156,
          8.146364212036133,
          3.7789931297302246,
          5.694282531738281,
          6.2726898193359375,
          9.059386253356934,
          10.887635231018066,
          11.36458969116211,
          1.4423174858093262,
          6.576936721801758,
          5.905057430267334,
          10.762039184570312
         ],
         "xaxis": "x",
         "y": [
          10.6742525100708,
          4.561610221862793,
          7.710030555725098,
          7.176585674285889,
          7.145886421203613,
          6.743300914764404,
          11.045906066894531,
          5.188469886779785,
          10.039715766906738,
          5.473438262939453,
          5.745380401611328,
          4.817927837371826,
          4.26253604888916,
          10.111485481262207,
          7.908470630645752,
          3.921638250350952,
          4.440932750701904,
          5.40018892288208,
          6.0805840492248535,
          6.914427757263184,
          7.401771545410156,
          4.905735015869141,
          6.5218281745910645,
          4.227194309234619,
          5.090151309967041,
          8.94101619720459,
          4.72535514831543,
          10.842687606811523,
          4.502833366394043,
          4.696531772613525,
          5.135170936584473,
          4.422888278961182,
          4.98730993270874,
          4.842496395111084,
          7.029307842254639,
          9.394765853881836,
          3.8435702323913574,
          6.323966979980469,
          5.504251956939697,
          6.119795799255371,
          5.405951499938965,
          9.656349182128906,
          6.9154839515686035,
          5.454225540161133,
          3.9908456802368164,
          7.888105869293213,
          7.485673904418945,
          4.923398494720459,
          7.809629440307617,
          6.262264251708984,
          7.233946800231934,
          6.065637588500977,
          6.221359729766846,
          8.166252136230469,
          8.827800750732422,
          4.958284378051758,
          9.537978172302246,
          7.618818759918213,
          5.401823997497559,
          6.294011116027832,
          5.290984153747559,
          9.486467361450195,
          10.88059139251709,
          9.374845504760742,
          6.109762668609619,
          10.96834945678711,
          5.546988010406494,
          10.441855430603027,
          6.848072528839111,
          3.923279047012329,
          5.4275593757629395,
          5.323558330535889,
          9.498737335205078,
          4.145960330963135,
          6.804146766662598,
          11.12399673461914,
          5.443316459655762,
          7.2700066566467285,
          4.474460124969482,
          10.581061363220215,
          9.428583145141602,
          4.13893461227417,
          4.2382073402404785,
          7.958419322967529,
          9.112884521484375,
          7.529754161834717,
          4.933560848236084,
          5.474555015563965,
          5.32277250289917,
          6.319477558135986,
          9.785438537597656,
          10.50920581817627,
          6.634282112121582,
          4.602537155151367,
          11.117639541625977,
          4.732698440551758,
          5.42363977432251,
          5.089084625244141,
          3.9784610271453857,
          10.407672882080078,
          6.276827812194824,
          3.9167773723602295,
          11.151330947875977,
          7.118232727050781,
          8.387584686279297,
          7.443244457244873,
          9.230364799499512,
          3.3816373348236084,
          11.497303009033203,
          10.573610305786133,
          6.259092330932617,
          7.5293049812316895,
          7.661275863647461,
          6.9054999351501465,
          5.296957015991211,
          7.662478446960449,
          10.301056861877441,
          3.2745609283447266,
          9.268169403076172,
          4.427863597869873,
          3.2721774578094482,
          10.238635063171387,
          4.619707107543945,
          3.93989896774292,
          4.212965965270996,
          8.407629013061523,
          4.938678741455078,
          11.532578468322754,
          6.668962478637695,
          6.22784423828125,
          10.279943466186523,
          5.053705215454102,
          5.097895622253418,
          3.8592827320098877,
          3.6009461879730225,
          9.426657676696777,
          8.054708480834961,
          8.336647987365723,
          3.8515772819519043,
          7.608954429626465,
          10.150544166564941,
          10.926909446716309,
          7.804238319396973,
          5.247978687286377,
          6.074386119842529,
          4.331920623779297,
          5.507103443145752,
          10.021832466125488,
          7.632737636566162,
          10.480277061462402,
          4.0052385330200195,
          7.181502819061279,
          3.9148147106170654,
          4.719777584075928,
          8.190594673156738,
          5.476340293884277,
          10.382555961608887,
          11.420066833496094,
          6.028496742248535,
          9.194258689880371,
          5.37575626373291,
          9.7100830078125,
          5.24863862991333,
          3.7927420139312744,
          4.267841815948486,
          4.470465660095215,
          8.270709037780762,
          3.398198127746582,
          4.319774150848389,
          3.7812159061431885,
          10.379866600036621,
          7.516360282897949,
          8.099424362182617,
          7.222667694091797,
          5.149087905883789,
          10.172759056091309,
          4.41323709487915,
          6.966545581817627,
          9.626204490661621,
          9.68687915802002,
          4.526801586151123
         ],
         "yaxis": "y"
        }
       ],
       "layout": {
        "height": 600,
        "legend": {
         "tracegroupgap": 0
        },
        "margin": {
         "t": 60
        },
        "template": {
         "data": {
          "bar": [
           {
            "error_x": {
             "color": "#2a3f5f"
            },
            "error_y": {
             "color": "#2a3f5f"
            },
            "marker": {
             "line": {
              "color": "#E5ECF6",
              "width": 0.5
             },
             "pattern": {
              "fillmode": "overlay",
              "size": 10,
              "solidity": 0.2
             }
            },
            "type": "bar"
           }
          ],
          "barpolar": [
           {
            "marker": {
             "line": {
              "color": "#E5ECF6",
              "width": 0.5
             },
             "pattern": {
              "fillmode": "overlay",
              "size": 10,
              "solidity": 0.2
             }
            },
            "type": "barpolar"
           }
          ],
          "carpet": [
           {
            "aaxis": {
             "endlinecolor": "#2a3f5f",
             "gridcolor": "white",
             "linecolor": "white",
             "minorgridcolor": "white",
             "startlinecolor": "#2a3f5f"
            },
            "baxis": {
             "endlinecolor": "#2a3f5f",
             "gridcolor": "white",
             "linecolor": "white",
             "minorgridcolor": "white",
             "startlinecolor": "#2a3f5f"
            },
            "type": "carpet"
           }
          ],
          "choropleth": [
           {
            "colorbar": {
             "outlinewidth": 0,
             "ticks": ""
            },
            "type": "choropleth"
           }
          ],
          "contour": [
           {
            "colorbar": {
             "outlinewidth": 0,
             "ticks": ""
            },
            "colorscale": [
             [
              0,
              "#0d0887"
             ],
             [
              0.1111111111111111,
              "#46039f"
             ],
             [
              0.2222222222222222,
              "#7201a8"
             ],
             [
              0.3333333333333333,
              "#9c179e"
             ],
             [
              0.4444444444444444,
              "#bd3786"
             ],
             [
              0.5555555555555556,
              "#d8576b"
             ],
             [
              0.6666666666666666,
              "#ed7953"
             ],
             [
              0.7777777777777778,
              "#fb9f3a"
             ],
             [
              0.8888888888888888,
              "#fdca26"
             ],
             [
              1,
              "#f0f921"
             ]
            ],
            "type": "contour"
           }
          ],
          "contourcarpet": [
           {
            "colorbar": {
             "outlinewidth": 0,
             "ticks": ""
            },
            "type": "contourcarpet"
           }
          ],
          "heatmap": [
           {
            "colorbar": {
             "outlinewidth": 0,
             "ticks": ""
            },
            "colorscale": [
             [
              0,
              "#0d0887"
             ],
             [
              0.1111111111111111,
              "#46039f"
             ],
             [
              0.2222222222222222,
              "#7201a8"
             ],
             [
              0.3333333333333333,
              "#9c179e"
             ],
             [
              0.4444444444444444,
              "#bd3786"
             ],
             [
              0.5555555555555556,
              "#d8576b"
             ],
             [
              0.6666666666666666,
              "#ed7953"
             ],
             [
              0.7777777777777778,
              "#fb9f3a"
             ],
             [
              0.8888888888888888,
              "#fdca26"
             ],
             [
              1,
              "#f0f921"
             ]
            ],
            "type": "heatmap"
           }
          ],
          "heatmapgl": [
           {
            "colorbar": {
             "outlinewidth": 0,
             "ticks": ""
            },
            "colorscale": [
             [
              0,
              "#0d0887"
             ],
             [
              0.1111111111111111,
              "#46039f"
             ],
             [
              0.2222222222222222,
              "#7201a8"
             ],
             [
              0.3333333333333333,
              "#9c179e"
             ],
             [
              0.4444444444444444,
              "#bd3786"
             ],
             [
              0.5555555555555556,
              "#d8576b"
             ],
             [
              0.6666666666666666,
              "#ed7953"
             ],
             [
              0.7777777777777778,
              "#fb9f3a"
             ],
             [
              0.8888888888888888,
              "#fdca26"
             ],
             [
              1,
              "#f0f921"
             ]
            ],
            "type": "heatmapgl"
           }
          ],
          "histogram": [
           {
            "marker": {
             "pattern": {
              "fillmode": "overlay",
              "size": 10,
              "solidity": 0.2
             }
            },
            "type": "histogram"
           }
          ],
          "histogram2d": [
           {
            "colorbar": {
             "outlinewidth": 0,
             "ticks": ""
            },
            "colorscale": [
             [
              0,
              "#0d0887"
             ],
             [
              0.1111111111111111,
              "#46039f"
             ],
             [
              0.2222222222222222,
              "#7201a8"
             ],
             [
              0.3333333333333333,
              "#9c179e"
             ],
             [
              0.4444444444444444,
              "#bd3786"
             ],
             [
              0.5555555555555556,
              "#d8576b"
             ],
             [
              0.6666666666666666,
              "#ed7953"
             ],
             [
              0.7777777777777778,
              "#fb9f3a"
             ],
             [
              0.8888888888888888,
              "#fdca26"
             ],
             [
              1,
              "#f0f921"
             ]
            ],
            "type": "histogram2d"
           }
          ],
          "histogram2dcontour": [
           {
            "colorbar": {
             "outlinewidth": 0,
             "ticks": ""
            },
            "colorscale": [
             [
              0,
              "#0d0887"
             ],
             [
              0.1111111111111111,
              "#46039f"
             ],
             [
              0.2222222222222222,
              "#7201a8"
             ],
             [
              0.3333333333333333,
              "#9c179e"
             ],
             [
              0.4444444444444444,
              "#bd3786"
             ],
             [
              0.5555555555555556,
              "#d8576b"
             ],
             [
              0.6666666666666666,
              "#ed7953"
             ],
             [
              0.7777777777777778,
              "#fb9f3a"
             ],
             [
              0.8888888888888888,
              "#fdca26"
             ],
             [
              1,
              "#f0f921"
             ]
            ],
            "type": "histogram2dcontour"
           }
          ],
          "mesh3d": [
           {
            "colorbar": {
             "outlinewidth": 0,
             "ticks": ""
            },
            "type": "mesh3d"
           }
          ],
          "parcoords": [
           {
            "line": {
             "colorbar": {
              "outlinewidth": 0,
              "ticks": ""
             }
            },
            "type": "parcoords"
           }
          ],
          "pie": [
           {
            "automargin": true,
            "type": "pie"
           }
          ],
          "scatter": [
           {
            "fillpattern": {
             "fillmode": "overlay",
             "size": 10,
             "solidity": 0.2
            },
            "type": "scatter"
           }
          ],
          "scatter3d": [
           {
            "line": {
             "colorbar": {
              "outlinewidth": 0,
              "ticks": ""
             }
            },
            "marker": {
             "colorbar": {
              "outlinewidth": 0,
              "ticks": ""
             }
            },
            "type": "scatter3d"
           }
          ],
          "scattercarpet": [
           {
            "marker": {
             "colorbar": {
              "outlinewidth": 0,
              "ticks": ""
             }
            },
            "type": "scattercarpet"
           }
          ],
          "scattergeo": [
           {
            "marker": {
             "colorbar": {
              "outlinewidth": 0,
              "ticks": ""
             }
            },
            "type": "scattergeo"
           }
          ],
          "scattergl": [
           {
            "marker": {
             "colorbar": {
              "outlinewidth": 0,
              "ticks": ""
             }
            },
            "type": "scattergl"
           }
          ],
          "scattermapbox": [
           {
            "marker": {
             "colorbar": {
              "outlinewidth": 0,
              "ticks": ""
             }
            },
            "type": "scattermapbox"
           }
          ],
          "scatterpolar": [
           {
            "marker": {
             "colorbar": {
              "outlinewidth": 0,
              "ticks": ""
             }
            },
            "type": "scatterpolar"
           }
          ],
          "scatterpolargl": [
           {
            "marker": {
             "colorbar": {
              "outlinewidth": 0,
              "ticks": ""
             }
            },
            "type": "scatterpolargl"
           }
          ],
          "scatterternary": [
           {
            "marker": {
             "colorbar": {
              "outlinewidth": 0,
              "ticks": ""
             }
            },
            "type": "scatterternary"
           }
          ],
          "surface": [
           {
            "colorbar": {
             "outlinewidth": 0,
             "ticks": ""
            },
            "colorscale": [
             [
              0,
              "#0d0887"
             ],
             [
              0.1111111111111111,
              "#46039f"
             ],
             [
              0.2222222222222222,
              "#7201a8"
             ],
             [
              0.3333333333333333,
              "#9c179e"
             ],
             [
              0.4444444444444444,
              "#bd3786"
             ],
             [
              0.5555555555555556,
              "#d8576b"
             ],
             [
              0.6666666666666666,
              "#ed7953"
             ],
             [
              0.7777777777777778,
              "#fb9f3a"
             ],
             [
              0.8888888888888888,
              "#fdca26"
             ],
             [
              1,
              "#f0f921"
             ]
            ],
            "type": "surface"
           }
          ],
          "table": [
           {
            "cells": {
             "fill": {
              "color": "#EBF0F8"
             },
             "line": {
              "color": "white"
             }
            },
            "header": {
             "fill": {
              "color": "#C8D4E3"
             },
             "line": {
              "color": "white"
             }
            },
            "type": "table"
           }
          ]
         },
         "layout": {
          "annotationdefaults": {
           "arrowcolor": "#2a3f5f",
           "arrowhead": 0,
           "arrowwidth": 1
          },
          "autotypenumbers": "strict",
          "coloraxis": {
           "colorbar": {
            "outlinewidth": 0,
            "ticks": ""
           }
          },
          "colorscale": {
           "diverging": [
            [
             0,
             "#8e0152"
            ],
            [
             0.1,
             "#c51b7d"
            ],
            [
             0.2,
             "#de77ae"
            ],
            [
             0.3,
             "#f1b6da"
            ],
            [
             0.4,
             "#fde0ef"
            ],
            [
             0.5,
             "#f7f7f7"
            ],
            [
             0.6,
             "#e6f5d0"
            ],
            [
             0.7,
             "#b8e186"
            ],
            [
             0.8,
             "#7fbc41"
            ],
            [
             0.9,
             "#4d9221"
            ],
            [
             1,
             "#276419"
            ]
           ],
           "sequential": [
            [
             0,
             "#0d0887"
            ],
            [
             0.1111111111111111,
             "#46039f"
            ],
            [
             0.2222222222222222,
             "#7201a8"
            ],
            [
             0.3333333333333333,
             "#9c179e"
            ],
            [
             0.4444444444444444,
             "#bd3786"
            ],
            [
             0.5555555555555556,
             "#d8576b"
            ],
            [
             0.6666666666666666,
             "#ed7953"
            ],
            [
             0.7777777777777778,
             "#fb9f3a"
            ],
            [
             0.8888888888888888,
             "#fdca26"
            ],
            [
             1,
             "#f0f921"
            ]
           ],
           "sequentialminus": [
            [
             0,
             "#0d0887"
            ],
            [
             0.1111111111111111,
             "#46039f"
            ],
            [
             0.2222222222222222,
             "#7201a8"
            ],
            [
             0.3333333333333333,
             "#9c179e"
            ],
            [
             0.4444444444444444,
             "#bd3786"
            ],
            [
             0.5555555555555556,
             "#d8576b"
            ],
            [
             0.6666666666666666,
             "#ed7953"
            ],
            [
             0.7777777777777778,
             "#fb9f3a"
            ],
            [
             0.8888888888888888,
             "#fdca26"
            ],
            [
             1,
             "#f0f921"
            ]
           ]
          },
          "colorway": [
           "#636efa",
           "#EF553B",
           "#00cc96",
           "#ab63fa",
           "#FFA15A",
           "#19d3f3",
           "#FF6692",
           "#B6E880",
           "#FF97FF",
           "#FECB52"
          ],
          "font": {
           "color": "#2a3f5f"
          },
          "geo": {
           "bgcolor": "white",
           "lakecolor": "white",
           "landcolor": "#E5ECF6",
           "showlakes": true,
           "showland": true,
           "subunitcolor": "white"
          },
          "hoverlabel": {
           "align": "left"
          },
          "hovermode": "closest",
          "mapbox": {
           "style": "light"
          },
          "paper_bgcolor": "white",
          "plot_bgcolor": "#E5ECF6",
          "polar": {
           "angularaxis": {
            "gridcolor": "white",
            "linecolor": "white",
            "ticks": ""
           },
           "bgcolor": "#E5ECF6",
           "radialaxis": {
            "gridcolor": "white",
            "linecolor": "white",
            "ticks": ""
           }
          },
          "scene": {
           "xaxis": {
            "backgroundcolor": "#E5ECF6",
            "gridcolor": "white",
            "gridwidth": 2,
            "linecolor": "white",
            "showbackground": true,
            "ticks": "",
            "zerolinecolor": "white"
           },
           "yaxis": {
            "backgroundcolor": "#E5ECF6",
            "gridcolor": "white",
            "gridwidth": 2,
            "linecolor": "white",
            "showbackground": true,
            "ticks": "",
            "zerolinecolor": "white"
           },
           "zaxis": {
            "backgroundcolor": "#E5ECF6",
            "gridcolor": "white",
            "gridwidth": 2,
            "linecolor": "white",
            "showbackground": true,
            "ticks": "",
            "zerolinecolor": "white"
           }
          },
          "shapedefaults": {
           "line": {
            "color": "#2a3f5f"
           }
          },
          "ternary": {
           "aaxis": {
            "gridcolor": "white",
            "linecolor": "white",
            "ticks": ""
           },
           "baxis": {
            "gridcolor": "white",
            "linecolor": "white",
            "ticks": ""
           },
           "bgcolor": "#E5ECF6",
           "caxis": {
            "gridcolor": "white",
            "linecolor": "white",
            "ticks": ""
           }
          },
          "title": {
           "x": 0.05
          },
          "xaxis": {
           "automargin": true,
           "gridcolor": "white",
           "linecolor": "white",
           "ticks": "",
           "title": {
            "standoff": 15
           },
           "zerolinecolor": "white",
           "zerolinewidth": 2
          },
          "yaxis": {
           "automargin": true,
           "gridcolor": "white",
           "linecolor": "white",
           "ticks": "",
           "title": {
            "standoff": 15
           },
           "zerolinecolor": "white",
           "zerolinewidth": 2
          }
         }
        },
        "title": {
         "text": "Key findings of Human Gut Microbiome research"
        },
        "width": 800,
        "xaxis": {
         "anchor": "y",
         "autorange": true,
         "domain": [
          0,
          1
         ],
         "range": [
          -0.1851155172080038,
          12.89335906607809
         ],
         "title": {
          "text": "UMAP 1"
         },
         "type": "linear"
        },
        "yaxis": {
         "anchor": "x",
         "autorange": true,
         "domain": [
          0,
          1
         ],
         "range": [
          2.728596333501377,
          12.076159592630825
         ],
         "title": {
          "text": "UMAP 2"
         },
         "type": "linear"
        }
       }
      },
      "image/png": "[encoded data removed]",
      "text/html": [
       "<div>                            <div id=\"ddbc0c84-7a13-473d-9f89-7e55c4255e81\" class=\"plotly-graph-div\" style=\"height:600px; width:800px;\"></div>            <script type=\"text/javascript\">                require([\"plotly\"], function(Plotly) {                    window.PLOTLYENV=window.PLOTLYENV || {};                                    if (document.getElementById(\"ddbc0c84-7a13-473d-9f89-7e55c4255e81\")) {                    Plotly.newPlot(                        \"ddbc0c84-7a13-473d-9f89-7e55c4255e81\",                        [{\"customdata\":[[\"PMC9791048: Infants with\\u003cbr\\u003efailure to thrive (FTT)\\u003cbr\\u003eexhibited underdeveloped gut\\u003cbr\\u003emicrobiota with disrupted\\u003cbr\\u003edevelopmental trajectories and\\u003cbr\\u003esignificantly decreased\\u003cbr\\u003emicrobiota-for-age Z-scores.\"],[\"PMC9791053: The study found a\\u003cbr\\u003elink between skin-gut\\u003cbr\\u003emicroorganisms and\\u003cbr\\u003eandrogenetic alopecia (AGA),\\u003cbr\\u003ewith more complex microbial\\u003cbr\\u003enetworks in individuals with\\u003cbr\\u003eAGA compared to healthy\\u003cbr\\u003econtrols.\"],[\"PMC9791776: The study\\u003cbr\\u003esuccessfully identified and\\u003cbr\\u003evalidated progressive fecal\\u003cbr\\u003emicrobiota gene markers for\\u003cbr\\u003ediagnosing advanced adenoma\\u003cbr\\u003eand colorectal cancer,\\u003cbr\\u003esignificantly improving\\u003cbr\\u003ediagnostic performance when\\u003cbr\\u003ecombined with fecal\\u003cbr\\u003eimmunochemical test.\"],[\"PMC9793106: EDP1066\\u003cbr\\u003eformulations did not affect\\u003cbr\\u003ethe immune response to KLH\\u003cbr\\u003eimmunization in healthy\\u003cbr\\u003eindividuals, but impacted ex\\u003cbr\\u003evivo whole blood LPS cytokine\\u003cbr\\u003eresponse.\"],[\"PMC9794004: The study\\u003cbr\\u003eidentified specific gut\\u003cbr\\u003emicrobial alterations and\\u003cbr\\u003emetabolic changes in pregnant\\u003cbr\\u003ewomen with gestational\\u003cbr\\u003ediabetes mellitus (GDM)\\u003cbr\\u003ecompared to those with normal\\u003cbr\\u003eglucose tolerance, linking\\u003cbr\\u003ethese changes to clinical\\u003cbr\\u003eparameters of glucose\\u003cbr\\u003emetabolism.\"],[\"PMC9794034: Type 1 diabetes\\u003cbr\\u003epatients with high-risk HLA\\u003cbr\\u003egenotypes exhibited increased\\u003cbr\\u003eabundances of Prevotella copri\\u003cbr\\u003eand decreased abundances of\\u003cbr\\u003eParabacteroides distasonis,\\u003cbr\\u003ealong with differential serum\\u003cbr\\u003emetabolites and lipids\\u003cbr\\u003einvolved in purine metabolism.\"],[\"PMC9795439: The study\\u003cbr\\u003einvestigates the long-term\\u003cbr\\u003eimpact of antibiotics and\\u003cbr\\u003eprobiotics on the health\\u003cbr\\u003eoutcomes of infants, focusing\\u003cbr\\u003eon the development of\\u003cbr\\u003eantibiotic resistance and\\u003cbr\\u003ecognitive and behavioural\\u003cbr\\u003edevelopment.\"],[\"PMC9795652: The study\\u003cbr\\u003eidentified four distinct gut\\u003cbr\\u003emicrobiome clusters in an\\u003cbr\\u003eItalian female cohort, which\\u003cbr\\u003ecorrelated differently with\\u003cbr\\u003eeating habits and behaviors\\u003cbr\\u003ebut not distinctly with weight\\u003cbr\\u003estatus.\"],[\"PMC9801562: Gut microbiota\\u003cbr\\u003edysbiosis in neonates with\\u003cbr\\u003eCCHD is characterized by\\u003cbr\\u003edepletion of Bifidobacterium\\u003cbr\\u003eand overgrowth of\\u003cbr\\u003eEnterococcus, correlating with\\u003cbr\\u003emetabolomic perturbations and\\u003cbr\\u003epoor surgical prognosis.\"],[\"PMC9803247: S. stercoralis\\u003cbr\\u003einfection leads to only minor\\u003cbr\\u003ealterations in the relative\\u003cbr\\u003eabundance of individual\\u003cbr\\u003ebacterial species in the human\\u003cbr\\u003egut, with no detectable effect\\u003cbr\\u003eon community structure and\\u003cbr\\u003ediversity.\"],[\"PMC9806127: The study found\\u003cbr\\u003esignificant differences in gut\\u003cbr\\u003emicrobiota composition between\\u003cbr\\u003etwo enterotypes in a confined\\u003cbr\\u003eenvironment, correlating with\\u003cbr\\u003evarious health indicators like\\u003cbr\\u003euric acid, sleep, and mood.\"],[\"PMC9807070: Distinct gut\\u003cbr\\u003emicrobial signatures were\\u003cbr\\u003eidentified for different\\u003cbr\\u003elevels of obesity, with\\u003cbr\\u003edecreased microbial diversity\\u003cbr\\u003eand specific microbial\\u003cbr\\u003ebiomarkers associated with\\u003cbr\\u003eeach obesity class.\"],[\"PMC9809927: Subjects with\\u003cbr\\u003eIBS-D or IBS-U showed\\u003cbr\\u003esignificantly reduced\\u003cbr\\u003ebacterial diversity, with\\u003cbr\\u003edistinct bacterial signatures\\u003cbr\\u003eand functional changes\\u003cbr\\u003eassociated with different IBS\\u003cbr\\u003esubtypes, highlighting the\\u003cbr\\u003eimportance of personalized gut\\u003cbr\\u003emicrobiome modulation.\"],[\"PMC9809947: Prolonged exposure\\u003cbr\\u003eto amoxicillin significantly\\u003cbr\\u003ealtered the fecal resistome\\u003cbr\\u003ewith increased antimicrobial\\u003cbr\\u003eresistance gene load and\\u003cbr\\u003ediversity, particularly beta-\\u003cbr\\u003elactam resistance, with\\u003cbr\\u003epersistent changes up to 9\\u003cbr\\u003emonths post-treatment, while\\u003cbr\\u003ethe microbiome showed overall\\u003cbr\\u003erecovery.\"],[\"PMC9810722: DNA\\u002fRNA Shield-\\u003cbr\\u003efecal collection tubes showed\\u003cbr\\u003ethe best performance in\\u003cbr\\u003epreserving the taxonomic and\\u003cbr\\u003efunctional stability of the\\u003cbr\\u003emicrobiome over 18 months.\"],[\"PMC9814012: The study found\\u003cbr\\u003esignificant differences in the\\u003cbr\\u003egut microbiota between AUD\\u003cbr\\u003epatients and healthy controls,\\u003cbr\\u003ewith specific microbiota\\u003cbr\\u003erelated to alcohol intake and\\u003cbr\\u003ecognitive function.\"],[\"PMC9814178: Significant\\u003cbr\\u003edifferences in gut microbiota\\u003cbr\\u003ebetween multiple sclerosis\\u003cbr\\u003epatients and healthy controls\\u003cbr\\u003ewere found, with specific\\u003cbr\\u003ebacterial species associated\\u003cbr\\u003ewith disease activity and\\u003cbr\\u003einflammation markers.\"],[\"PMC9816055: No significant\\u003cbr\\u003edifference in gut microbiota\\u003cbr\\u003ecomposition was observed\\u003cbr\\u003ebetween AAA patients and\\u003cbr\\u003econtrols, except for a\\u003cbr\\u003esignificantly lower abundance\\u003cbr\\u003eof Bifidobacterium\\u003cbr\\u003eadolescentis in the AAA group.\"],[\"PMC9816096: Severe, short-term\\u003cbr\\u003esleep restriction reduced the\\u003cbr\\u003erichness of the gut microbiota\\u003cbr\\u003ebut did not significantly\\u003cbr\\u003eimpact overall community\\u003cbr\\u003ecomposition or intestinal\\u003cbr\\u003epermeability in healthy young\\u003cbr\\u003emen.\"],[\"PMC9817375: Adverse\\u003cbr\\u003ealterations in gut microbiome\\u003cbr\\u003ecomposition are associated\\u003cbr\\u003ewith higher insulin\\u003cbr\\u003eresistance, longer diabetes\\u003cbr\\u003eduration, and presence in\\u003cbr\\u003eindividuals using diabetes\\u003cbr\\u003emedications, with significant\\u003cbr\\u003ereductions in butyrate-\\u003cbr\\u003eproducing bacteria.\"],[\"PMC9817783: The study\\u003cbr\\u003eidentified microbial taxa and\\u003cbr\\u003emetabolic features in fecal\\u003cbr\\u003esamples that are significantly\\u003cbr\\u003eassociated with colorectal\\u003cbr\\u003ecancer, using 16S rRNA gene\\u003cbr\\u003eamplicon analysis and machine\\u003cbr\\u003elearning to enhance predictive\\u003cbr\\u003eaccuracy for CRC screening.\"],[\"PMC9819204: The study\\u003cbr\\u003eidentified an inverse\\u003cbr\\u003eassociation between body mass\\u003cbr\\u003eindex and the gut microbiome,\\u003cbr\\u003ehighlighting Bacteroides,\\u003cbr\\u003eClostridium, Prevotella, and\\u003cbr\\u003eRuminococcus as key genera\\u003cbr\\u003enegatively associated with\\u003cbr\\u003eBMI.\"],[\"PMC9822983: The study\\u003cbr\\u003eidentified distinct\\u003cbr\\u003etaxonomical and immunological\\u003cbr\\u003esignatures associated with\\u003cbr\\u003eperceived stress levels in\\u003cbr\\u003epregnant women, suggesting\\u003cbr\\u003ethat gut microbiome and immune\\u003cbr\\u003efactors may modulate neural\\u003cbr\\u003eplasticity and increase self-\\u003cbr\\u003eefficacy during pregnancy.\"],[\"PMC9830758: IBS is\\u003cbr\\u003echaracterized by a multi-omics\\u003cbr\\u003emicrobial signature indicating\\u003cbr\\u003eincreased capacity to utilize\\u003cbr\\u003efermentable carbohydrates,\\u003cbr\\u003ewith distinct profiles for IBS\\u003cbr\\u003esubtypes and novel metabolites\\u003cbr\\u003eand pathways identified.\"],[\"PMC9832664: Bile acids and\\u003cbr\\u003earachidonic acid metabolism\\u003cbr\\u003ewere disturbed in CIDP\\u003cbr\\u003esubjects, potentially\\u003cbr\\u003einfluenced by gut microbial\\u003cbr\\u003edysbiosis, with specific\\u003cbr\\u003eopportunistic pathogens more\\u003cbr\\u003eabundant in CIDP subjects.\"],[\"PMC9834383: Breast cancer\\u003cbr\\u003epatients from the Midwestern\\u003cbr\\u003eUnited States exhibited gut\\u003cbr\\u003edysbiosis with reduced levels\\u003cbr\\u003eof short-chain fatty acid-\\u003cbr\\u003eproducing bacteria compared to\\u003cbr\\u003ehealthy controls.\"],[\"PMC9835027: No significant\\u003cbr\\u003edifferences in alpha and beta\\u003cbr\\u003ediversities among episodic\\u003cbr\\u003emigraine, chronic migraine,\\u003cbr\\u003eand control groups, but\\u003cbr\\u003esignificant differences in\\u003cbr\\u003emicrobiota composition at\\u003cbr\\u003evarious taxonomic levels and\\u003cbr\\u003eassociations with headache\\u003cbr\\u003efrequency and severity.\"],[\"PMC9837561: The study\\u003cbr\\u003edeveloped a novel pipeline,\\u003cbr\\u003eMeRRCI, which revealed that\\u003cbr\\u003ecurrent antibiotic treatments\\u003cbr\\u003econtribute to gut dysbiosis in\\u003cbr\\u003epreterm infants, promoting\\u003cbr\\u003epathobiont proliferation and\\u003cbr\\u003especific antibacterial\\u003cbr\\u003eresistance.\"],[\"PMC9837590: The study found\\u003cbr\\u003ethat patients with Alopecia\\u003cbr\\u003eAreata (AA) exhibited an\\u003cbr\\u003eoverrepresentation of\\u003cbr\\u003eFirmicutes and Proteobacteria,\\u003cbr\\u003esuggesting a disturbed\\u003cbr\\u003emicroflora and a decrease in\\u003cbr\\u003eoverall microbial richness and\\u003cbr\\u003etaxonomic diversity.\"],[\"PMC9840001: Nut consumption\\u003cbr\\u003esignificantly improved\\u003cbr\\u003ecognitive function in terms of\\u003cbr\\u003eaccuracy and speed on a\\u003cbr\\u003epicture recognition task in\\u003cbr\\u003ehealthy nonelderly adults.\"],[\"PMC9840338: Pediatric CD\\u003cbr\\u003eprogressors have a distinct\\u003cbr\\u003egut microbiota composition,\\u003cbr\\u003eplasma metabolome, and\\u003cbr\\u003ecytokine profile before\\u003cbr\\u003ediagnosis, with TDCA feeding\\u003cbr\\u003ealone stimulating an\\u003cbr\\u003einflammatory immune response\\u003cbr\\u003eand causing villous atrophy in\\u003cbr\\u003emice.\"],[\"PMC9840915: Analysis of gut\\u003cbr\\u003emicrobe-derived extracellular\\u003cbr\\u003evesicles (EVs) is more\\u003cbr\\u003eeffective at differentiating\\u003cbr\\u003epatients with inflammatory\\u003cbr\\u003ebowel disease (IBD) from\\u003cbr\\u003ehealthy controls compared to\\u003cbr\\u003estool microbiome analysis\\u003cbr\\u003ealone.\"],[\"PMC9841652: Patients with\\u003cbr\\u003eCeliac Disease (CD) showed the\\u003cbr\\u003emost dissimilarity in gut\\u003cbr\\u003emicrobiota compared to other\\u003cbr\\u003egroups, with a higher relative\\u003cbr\\u003eabundance of Firmicutes and a\\u003cbr\\u003esignificant alteration in the\\u003cbr\\u003eFirmicutes to Bacteroidetes\\u003cbr\\u003eratio.\"],[\"PMC9845923: Significant\\u003cbr\\u003edifferences in gut microbiota\\u003cbr\\u003eand metabolites were observed\\u003cbr\\u003eat different stages of HIV\\u003cbr\\u003einfection, with pathogenic\\u003cbr\\u003ebacteria associated with HIV\\u003cbr\\u003eseverity and disrupted\\u003cbr\\u003etryptophan metabolism.\"],[\"PMC9846273: PE patients\\u003cbr\\u003edemonstrated gut microbiota\\u003cbr\\u003edisturbances with lower\\u003cbr\\u003emicrobial \\u03b1 diversity and\\u003cbr\\u003ehigher proinflammatory factors\\u003cbr\\u003ecompared to healthy controls.\"],[\"PMC9848239: The study found\\u003cbr\\u003edifferences in gut microbiota\\u003cbr\\u003ebetween high and low vascular\\u003cbr\\u003ecalcification groups in\\u003cbr\\u003ehemodialysis patients, with\\u003cbr\\u003eEscherichia-Shigella and\\u003cbr\\u003eRuminococcus showing\\u003cbr\\u003esignificant correlations with\\u003cbr\\u003evascular calcification.\"],[\"PMC9849375: The study found\\u003cbr\\u003ethat acupuncture can influence\\u003cbr\\u003eclinical outcomes related to\\u003cbr\\u003ealcohol withdrawal in AUD\\u003cbr\\u003epatients by modulating the gut\\u003cbr\\u003emicrobiome and metabolomics.\"],[\"PMC9851210: Individuals with\\u003cbr\\u003etrait anxiety had lower\\u003cbr\\u003emicrobial diversity, and\\u003cbr\\u003especific microbial changes\\u003cbr\\u003ewere associated with PTSD,\\u003cbr\\u003edepression, and anxiety\\u003cbr\\u003esymptoms, influenced by\\u003cbr\\u003eCOVID-19 infection and\\u003cbr\\u003evaccination.\"],[\"PMC9852993: The study found a\\u003cbr\\u003esignificant correlation\\u003cbr\\u003ebetween glycemic status,\\u003cbr\\u003esystemic inflammation, and gut\\u003cbr\\u003emicrobiome composition in\\u003cbr\\u003eBhutanese refugee adults in\\u003cbr\\u003eNew Hampshire, highlighting\\u003cbr\\u003ethe influence of\\u003cbr\\u003eproinflammatory taxa and\\u003cbr\\u003edietary fiber on metabolic\\u003cbr\\u003ehealth.\"],[\"PMC9853283: Dietary patterns\\u003cbr\\u003erelated to metabolic syndrome\\u003cbr\\u003ediffer according to gut\\u003cbr\\u003emicrobial enterotypes among\\u003cbr\\u003eKorean adults, with specific\\u003cbr\\u003epatterns associated with\\u003cbr\\u003eincreased risks of metabolic\\u003cbr\\u003eunhealthy status and\\u003cbr\\u003ehyperglycemia.\"],[\"PMC9854132: Urolithin A intake\\u003cbr\\u003ealters the gut microbiota,\\u003cbr\\u003eincreases alpha diversity, and\\u003cbr\\u003eimproves vascular endothelial\\u003cbr\\u003efunction, correlating with\\u003cbr\\u003eindividual gut microbiota\\u003cbr\\u003eprofiles.\"],[\"PMC9855101: Copra meal\\u003cbr\\u003ehydrolysate (CMH) treatment in\\u003cbr\\u003eThai adults resulted in\\u003cbr\\u003ebeneficial effects on the gut\\u003cbr\\u003emicrobiome, identifying twelve\\u003cbr\\u003epredominant bacterial species\\u003cbr\\u003eand their metabolic routes\\u003cbr\\u003erelated to SCFAs biosynthesis.\"],[\"PMC9856008: SARS-CoV-2\\u003cbr\\u003einfection exacerbates\\u003cbr\\u003emicrobiome changes in Type 2\\u003cbr\\u003eDiabetes patients, leading to\\u003cbr\\u003ehigher levels of\\u003cbr\\u003eEnterobacteriaceae, loss of\\u003cbr\\u003ebutyrate producers, and an\\u003cbr\\u003eenrichment in fungi such as\\u003cbr\\u003eCandida spp. and Aspergillus\\u003cbr\\u003espp.\"],[\"PMC9857880: Meat intake, both\\u003cbr\\u003ered and white, was positively\\u003cbr\\u003ecorrelated with specific gut\\u003cbr\\u003eflora changes in Saudi Arabian\\u003cbr\\u003eadult females, with variations\\u003cbr\\u003eobserved between those with\\u003cbr\\u003eand without obesity.\"],[\"PMC9858991: Significant\\u003cbr\\u003edifferences in the prevalence,\\u003cbr\\u003ediversity, and richness of\\u003cbr\\u003ecrAssphage subfamilies were\\u003cbr\\u003eobserved between obese\\u003cbr\\u003echildren and those with\\u003cbr\\u003eobesity and metabolic\\u003cbr\\u003esyndrome, suggesting a role in\\u003cbr\\u003ethe regulation of gut\\u003cbr\\u003ebacterial ecosystems.\"],[\"PMC9860093: Increased\\u003cbr\\u003eabundance of Fusobacterium or\\u003cbr\\u003eBifidobacterium in fecal\\u003cbr\\u003esamples can be used as a\\u003cbr\\u003emarker for colorectal cancer.\"],[\"PMC9860194: Machine learning\\u003cbr\\u003eclassification algorithms for\\u003cbr\\u003eCrohn's Disease showed robust\\u003cbr\\u003eperformance across different\\u003cbr\\u003egeographic regions in North\\u003cbr\\u003eAmerica, with the best results\\u003cbr\\u003efrom terminal ileum samples.\"],[\"PMC9861125: Significant\\u003cbr\\u003edifferences in alpha diversity\\u003cbr\\u003eof gut microbiota were\\u003cbr\\u003eobserved between PCOS patients\\u003cbr\\u003eand healthy women,\\u003cbr\\u003eparticularly in classic PCOS\\u003cbr\\u003ephenotypes.\"],[\"PMC9861998: Microbiome\\u003cbr\\u003eprofiles, particularly\\u003cbr\\u003eincreased Fusobacterium in\\u003cbr\\u003etissues and specific fecal\\u003cbr\\u003emicrobes, were significantly\\u003cbr\\u003eassociated with mesenteric\\u003cbr\\u003elymph node involvement and T\\u003cbr\\u003ecell infiltration in\\u003cbr\\u003ecolorectal cancer patients.\"],[\"PMC9862486: Increasing protein\\u003cbr\\u003eintake in older adults to 1.2\\u003cbr\\u003eg\\u002fkg aBW\\u002fday does not\\u003cbr\\u003enegatively impact the gut\\u003cbr\\u003emicrobiota or suppress\\u003cbr\\u003eappetite.\"],[\"PMC9864113: Laparoscopic\\u003cbr\\u003eSleeve Gastrectomy (LSG) in\\u003cbr\\u003eobese individuals results in\\u003cbr\\u003eimproved metabolic profiles\\u003cbr\\u003eand changes in gut microbiota\\u003cbr\\u003ecomposition, though not\\u003cbr\\u003eequivalent to those of normal\\u003cbr\\u003eweight.\"],[\"PMC9866083: The study\\u003cbr\\u003echaracterized the gut\\u003cbr\\u003emicrobiota of urban Thai\\u003cbr\\u003eadults, identifying distinct\\u003cbr\\u003eenterotypes associated with\\u003cbr\\u003elifestyle and dietary habits,\\u003cbr\\u003eand found significant\\u003cbr\\u003edifferences in microbial\\u003cbr\\u003ediversity and function between\\u003cbr\\u003ethese enterotypes.\"],[\"PMC9869777: Increased\\u003cbr\\u003ecarbohydrate intake in amateur\\u003cbr\\u003ecyclists did not significantly\\u003cbr\\u003ealter gut microbiota or fecal\\u003cbr\\u003epH compared to the control\\u003cbr\\u003egroup.\"],[\"PMC9870247: The treatment with\\u003cbr\\u003ea multispecies probiotic\\u003cbr\\u003eformulation significantly\\u003cbr\\u003ereduced the number of days\\u003cbr\\u003ewith constipation and other\\u003cbr\\u003egastrointestinal symptoms\\u003cbr\\u003efollowing colonoscopy.\"],[\"PMC9870743: The study found\\u003cbr\\u003esignificant differences in gut\\u003cbr\\u003emicrobiota composition between\\u003cbr\\u003epatients with mild and severe\\u003cbr\\u003ecancer-related fatigue, with\\u003cbr\\u003emild CRF associated with anti-\\u003cbr\\u003einflammatory taxa and severe\\u003cbr\\u003eCRF associated with pro-\\u003cbr\\u003einflammatory taxa.\"],[\"PMC9874095: SLE patients\\u003cbr\\u003eexhibited a significant\\u003cbr\\u003edecrease in gut viral\\u003cbr\\u003ediversity and considerable\\u003cbr\\u003ealterations in the overall gut\\u003cbr\\u003evirome composition compared to\\u003cbr\\u003ehealthy controls.\"],[\"PMC9874322: Sepsis patients\\u003cbr\\u003eexhibited significant\\u003cbr\\u003edifferences in gut microbiota\\u003cbr\\u003ecomposition compared to\\u003cbr\\u003ehealthy individuals, with\\u003cbr\\u003eincreased Proteobacteria and\\u003cbr\\u003edecreased Firmicutes; fecal\\u003cbr\\u003emicrobiota transplantation\\u003cbr\\u003e(FMT) and short-chain fatty\\u003cbr\\u003eacids (SCFAs) improved\\u003cbr\\u003esurvival, reduced\\u003cbr\\u003einflammation, and restored gut\\u003cbr\\u003emicrobiota in a mouse model of\\u003cbr\\u003esepsis.\"],[\"PMC9880203: Distinct microbial\\u003cbr\\u003eand metabolomic profiles were\\u003cbr\\u003eidentified between colorectal\\u003cbr\\u003ecancer patients and healthy\\u003cbr\\u003econtrols, with specific\\u003cbr\\u003emicrobes and metabolites\\u003cbr\\u003eshowing strong correlations\\u003cbr\\u003eand potential as biomarkers.\"],[\"PMC9880954: Successful dietary\\u003cbr\\u003etherapy in pediatric Crohn's\\u003cbr\\u003edisease patients led to a\\u003cbr\\u003eshift towards healthy controls\\u003cbr\\u003ein terms of bacterial\\u003cbr\\u003ecomposition and metabotypes,\\u003cbr\\u003ealthough complete correction\\u003cbr\\u003eof dysbiosis was not achieved\\u003cbr\\u003ewithin 12 weeks.\"],[\"PMC9881202: Diabetes and\\u003cbr\\u003emetabolic syndrome are\\u003cbr\\u003eassociated with hepatic\\u003cbr\\u003esteatosis severity in MAFLD\\u003cbr\\u003epatients, and both conditions\\u003cbr\\u003eare independently associated\\u003cbr\\u003ewith changes in the\\u003cbr\\u003emicrobiome.\"],[\"PMC9882014: Functional\\u003cbr\\u003ealterations via LCFA\\u003cbr\\u003ebiosynthetic genes and\\u003cbr\\u003eincreases in antibiotic\\u003cbr\\u003eresistance genes were observed\\u003cbr\\u003ein the gut microbiota of\\u003cbr\\u003esubjects with moderate-to-\\u003cbr\\u003esevere asthma.\"],[\"PMC9882682: Significantly\\u003cbr\\u003elower alpha diversity was\\u003cbr\\u003eobserved among cancer-free\\u003cbr\\u003eBlack women compared to all\\u003cbr\\u003eother race-cancer status\\u003cbr\\u003ecombinations, and non-Hispanic\\u003cbr\\u003eWhite CRC cases had higher\\u003cbr\\u003erelative abundance of certain\\u003cbr\\u003ebacteria compared to other\\u003cbr\\u003egroups.\"],[\"PMC9882695: Less frequent\\u003cbr\\u003eplastic bottle use was\\u003cbr\\u003eassociated with lower fecal\\u003cbr\\u003emicrobiota alpha Shannon\\u003cbr\\u003ediversity and lower propionic\\u003cbr\\u003eacid concentration at 3\\u003cbr\\u003emonths, and negatively\\u003cbr\\u003eimpacted length-for-age\\u003cbr\\u003ez-scores at 12 months.\"],[\"PMC9884196: The study found\\u003cbr\\u003esignificant correlations\\u003cbr\\u003ebetween certain gut microbiota\\u003cbr\\u003eOTUs and nutritional status\\u003cbr\\u003emarkers like serum albumin and\\u003cbr\\u003epre-albumin in peritoneal\\u003cbr\\u003edialysis patients, suggesting\\u003cbr\\u003epotential interventions with\\u003cbr\\u003eprobiotics and prebiotics.\"],[\"PMC9884692: No significant\\u003cbr\\u003edifferences were found in\\u003cbr\\u003ebacterial diversity,\\u003cbr\\u003eBacteroidetes\\u002fFirmicutes\\u003cbr\\u003eratio, enterotype composition,\\u003cbr\\u003emetagenome functional content,\\u003cbr\\u003eor SCFA concentrations between\\u003cbr\\u003eesports players and students;\\u003cbr\\u003ehowever, significant\\u003cbr\\u003edifferences were observed in\\u003cbr\\u003especific bacterial species and\\u003cbr\\u003eamino acids.\"],[\"PMC9888258: Black carbon\\u003cbr\\u003eparticles quantified in\\u003cbr\\u003eprenatal and postnatal\\u003cbr\\u003ebiological matrices were\\u003cbr\\u003eassociated with reduced\\u003cbr\\u003ediversity indices of the\\u003cbr\\u003echildhood intestinal\\u003cbr\\u003emicrobiome.\"],[\"PMC9891498: The study\\u003cbr\\u003equantified the impact of\\u003cbr\\u003evitamin C on serum urate\\u003cbr\\u003elevels in Hmong adults with\\u003cbr\\u003eand without\\u003cbr\\u003egout\\u002fhyperuricemia, enhancing\\u003cbr\\u003eunderstanding of how gut\\u003cbr\\u003emicrobiome and genomic\\u003cbr\\u003evariants affect urate-lowering\\u003cbr\\u003eeffects of vitamin C and its\\u003cbr\\u003eassociation with obesity and\\u003cbr\\u003egout\\u002fhyperuricemia.\"],[\"PMC9892008: The study detected\\u003cbr\\u003eextensive bacterial strain\\u003cbr\\u003esharing across individuals,\\u003cbr\\u003ewith significant mother-to-\\u003cbr\\u003einfant transmission and\\u003cbr\\u003epatterns influenced by\\u003cbr\\u003ecohabitation duration.\"],[\"PMC9894915: Fecal metabolites,\\u003cbr\\u003eparticularly butyric acid,\\u003cbr\\u003ewere found to significantly\\u003cbr\\u003eassociate with gut microbiota\\u003cbr\\u003eand prevalent type 2 diabetes,\\u003cbr\\u003eunlike their blood\\u003cbr\\u003ecounterparts.\"],[\"PMC9895076: The physical form\\u003cbr\\u003eand location of fibers within\\u003cbr\\u003ecell walls create niches that\\u003cbr\\u003eenhance the growth of\\u003cbr\\u003ebeneficial gut bacteria and\\u003cbr\\u003eincrease butyrate production.\"],[\"PMC9896348: Long-term\\u003cbr\\u003etraditional Tibetan Buddhist\\u003cbr\\u003emeditation positively impacts\\u003cbr\\u003ephysical and mental health by\\u003cbr\\u003ealtering gut microbiota\\u003cbr\\u003ecomposition, enriching\\u003cbr\\u003ebeneficial bacterial genera,\\u003cbr\\u003eand reducing clinical risk\\u003cbr\\u003efactors such as cholesterol.\"],[\"PMC9896942: The study\\u003cbr\\u003eidentified robust structural\\u003cbr\\u003epatterns in the taxonomic\\u003cbr\\u003ecomposition of healthy human\\u003cbr\\u003egut microbiomes, revealing\\u003cbr\\u003enested structures and distinct\\u003cbr\\u003eecological roles of microbes\\u003cbr\\u003eand hosts.\"],[\"PMC9898251: Lung cancer\\u003cbr\\u003epatients showed lower alpha-\\u003cbr\\u003ediversity and higher between-\\u003cbr\\u003esubject diversity compared to\\u003cbr\\u003ehealthy controls, with\\u003cbr\\u003especific taxa like\\u003cbr\\u003eClostridiales,\\u003cbr\\u003eLachnospiraceae, and\\u003cbr\\u003eFaecalibacterium prausnitzii\\u003cbr\\u003ebeing less abundant in lung\\u003cbr\\u003ecancer patients. High\\u003cbr\\u003eabundance of Akkermansia\\u003cbr\\u003emuciniphila, Alistipes\\u003cbr\\u003eonderdonkii, and Ruminococcus\\u003cbr\\u003ecorrelated with durable\\u003cbr\\u003eclinical benefit in these\\u003cbr\\u003epatients.\"],[\"PMC9903723: The study\\u003cbr\\u003eidentified 19,084 prokaryotic\\u003cbr\\u003eand 31,395 viral genomes from\\u003cbr\\u003eJapanese gut metagenomes,\\u003cbr\\u003erevealing population-specific\\u003cbr\\u003emicrobial features linked to\\u003cbr\\u003etraditional Japanese diets and\\u003cbr\\u003esignificant associations\\u003cbr\\u003ebetween crAss-like phages and\\u003cbr\\u003ediseases.\"],[\"PMC9905522: The study\\u003cbr\\u003edemonstrated that metabolic\\u003cbr\\u003elabeling with fluorescent\\u003cbr\\u003eoligosaccharides combined with\\u003cbr\\u003efluorescence-activated cell\\u003cbr\\u003esorting and sequencing\\u003cbr\\u003eeffectively identifies and\\u003cbr\\u003eisolates gut bacteria in\\u003cbr\\u003ehealthy adults that consume\\u003cbr\\u003especific glycans, enhancing\\u003cbr\\u003eunderstanding of glycan\\u003cbr\\u003emetabolism in the gut\\u003cbr\\u003emicrobiota.\"],[\"PMC9907754: Early life events\\u003cbr\\u003eand continuous exposure to\\u003cbr\\u003efarm environments, including\\u003cbr\\u003eanimal sheds and farm milk\\u003cbr\\u003econsumption, significantly\\u003cbr\\u003ereduce the risk of hay fever\\u003cbr\\u003ein children.\"],[\"PMC9908549: Dietary\\u003cbr\\u003eintervention with a\\u003cbr\\u003epsychobiotic diet resulted in\\u003cbr\\u003ereductions of perceived stress\\u003cbr\\u003eand significant changes in\\u003cbr\\u003especific fecal lipids and\\u003cbr\\u003eurinary tryptophan\\u003cbr\\u003emetabolites, though changes in\\u003cbr\\u003emicrobial composition and\\u003cbr\\u003efunction were subtle.\"],[\"PMC9909237: Liraglutide\\u003cbr\\u003etreatment significantly\\u003cbr\\u003eincreased the diversity and\\u003cbr\\u003erichness of the intestinal\\u003cbr\\u003ebacterial community and had a\\u003cbr\\u003estronger correlation with\\u003cbr\\u003eislet \\u03b2-cell function, while\\u003cbr\\u003emetformin treatment increased\\u003cbr\\u003ethe complexity and stability\\u003cbr\\u003eof the intestinal bacterial\\u003cbr\\u003enetwork and had a stronger\\u003cbr\\u003ecorrelation with inflammation-\\u003cbr\\u003erelated factors.\"],[\"PMC9909917: IBD patients with\\u003cbr\\u003eoverweight\\u002fobesity showed\\u003cbr\\u003edistinct serum and fecal\\u003cbr\\u003eproteomic profiles compared to\\u003cbr\\u003ehealthy controls, with\\u003cbr\\u003especific microbial species\\u003cbr\\u003ealterations and increased\\u003cbr\\u003emicrobial diversity in UC\\u003cbr\\u003epatients with\\u003cbr\\u003eoverweight\\u002fobesity.\"],[\"PMC9910082: The multifractal\\u003cbr\\u003edimensions of an infant's gut\\u003cbr\\u003emicrobiomes can distinguish\\u003cbr\\u003eage differences, indicating\\u003cbr\\u003ethat multifractal analysis is\\u003cbr\\u003ea valuable tool in\\u003cbr\\u003eunderstanding the development\\u003cbr\\u003eof infants through changes in\\u003cbr\\u003egut microbiota.\"],[\"PMC9913170: Significant\\u003cbr\\u003etaxonomic disparities were\\u003cbr\\u003eobserved between breast cancer\\u003cbr\\u003esurvivors and healthy\\u003cbr\\u003econtrols, with differences in\\u003cbr\\u003e\\u03b1-diversity and the\\u003cbr\\u003eFirmicutes\\u002fBacteroidetes\\u003cbr\\u003eratio.\"],[\"PMC9916458: Dystonia patients\\u003cbr\\u003eshowed higher abundances of\\u003cbr\\u003eRuminococcus torques and Dorea\\u003cbr\\u003eformicigenerans, and a lower\\u003cbr\\u003eabundance of Butyrivibrio\\u003cbr\\u003ecrossotus compared to\\u003cbr\\u003econtrols, with significant\\u003cbr\\u003eneuro-active metabolic pathway\\u003cbr\\u003edifferences, particularly in\\u003cbr\\u003etryptophan degradation.\"],[\"PMC9917003: The study found no\\u003cbr\\u003esignificant changes in gut\\u003cbr\\u003emicrobiota biodiversity over 6\\u003cbr\\u003emonths of DMF treatment in MS\\u003cbr\\u003epatients, but noted specific\\u003cbr\\u003emicrobial abundance changes\\u003cbr\\u003eassociated with DMF side\\u003cbr\\u003eeffects.\"],[\"PMC9918080: Probiotic\\u003cbr\\u003esupplementation modulated the\\u003cbr\\u003egut microbiome, increased\\u003cbr\\u003eplasma short-chain fatty\\u003cbr\\u003eacids, and improved skin\\u003cbr\\u003ebiophysical properties and\\u003cbr\\u003eacne in participants.\"],[\"PMC9919165: Significant\\u003cbr\\u003edifferences in bacterial\\u003cbr\\u003ecommunity distribution were\\u003cbr\\u003eidentified between normal\\u003cbr\\u003esubjects and IDA patients,\\u003cbr\\u003ewith a notable decrease in\\u003cbr\\u003eFaecalibacterium in IDA\\u003cbr\\u003epatients, which recovered to\\u003cbr\\u003enormal levels after iron\\u003cbr\\u003esupplementation treatment.\"],[\"PMC9920253: Dietary intake\\u003cbr\\u003eduring pregnancy showed\\u003cbr\\u003evariable influence on maternal\\u003cbr\\u003emicrobiota, with no\\u003cbr\\u003esignificant associations found\\u003cbr\\u003ebetween diet quality or\\u003cbr\\u003ecomposition and microbial\\u003cbr\\u003ediversity, but specific macro-\\u003cbr\\u003eand micronutrients may\\u003cbr\\u003einfluence microbial diversity\\u003cbr\\u003eunder certain pregnancy\\u003cbr\\u003econditions.\"],[\"PMC9921623: Consumption of\\u003cbr\\u003emixed tree nuts affects\\u003cbr\\u003etryptophan host and microbial\\u003cbr\\u003emetabolism in overweight and\\u003cbr\\u003eobese subjects, showing\\u003cbr\\u003echanges in tryptophan\\u003cbr\\u003emetabolism and no significant\\u003cbr\\u003emicrobial changes in\\u003cbr\\u003ediversity.\"],[\"PMC9921707: Dietary\\u003cbr\\u003einterventions, specifically a\\u003cbr\\u003eMediterranean diet followed by\\u003cbr\\u003ea Canadian diet and then\\u003cbr\\u003eMediterranean diet again, led\\u003cbr\\u003eto immediate and reversible\\u003cbr\\u003echanges in plasma lipid\\u003cbr\\u003emediators and gut microbiota\\u003cbr\\u003ecomposition, with initial\\u003cbr\\u003emicrobiome diversity reducing\\u003cbr\\u003ethe extent of microbiota\\u003cbr\\u003emodulation.\"],[\"PMC9926762: Physical activity\\u003cbr\\u003eand lifestyle associated with\\u003cbr\\u003eathletes can modulate gut\\u003cbr\\u003emicrobiota composition,\\u003cbr\\u003eenhancing microbes that\\u003cbr\\u003eproduce beneficial compounds\\u003cbr\\u003elike SCFAs, which are linked\\u003cbr\\u003eto improved physical\\u003cbr\\u003eperformance and health.\"],[\"PMC9927108: The gut microbiome\\u003cbr\\u003eof osteoarthritis patients,\\u003cbr\\u003eincluding bacteriome,\\u003cbr\\u003emycobiome, and virome, is\\u003cbr\\u003esignificantly altered compared\\u003cbr\\u003eto healthy controls, with\\u003cbr\\u003edistinct microbial and viral\\u003cbr\\u003esignatures that may impact the\\u003cbr\\u003edisease.\"],[\"PMC9927280: Aberrant gut\\u003cbr\\u003emicrobiota in CKD patients,\\u003cbr\\u003eparticularly enriched with\\u003cbr\\u003eKlebsiella pneumoniae,\\u003cbr\\u003econtributes to uremic\\u003cbr\\u003ecardiomyopathy by inducing\\u003cbr\\u003eexpansion of IFN\\u03b3+ CD4+ T\\u003cbr\\u003ecells in the heart.\"],[\"PMC9929340: The early-life gut\\u003cbr\\u003emicrobiome in infants\\u003cbr\\u003eundergoes programmed assembly\\u003cbr\\u003eunresponsive to interventions\\u003cbr\\u003eaimed at improving growth,\\u003cbr\\u003ewith maternal HIV infection\\u003cbr\\u003elinked to microbiome over-\\u003cbr\\u003ediversification and reduced\\u003cbr\\u003eBifidobacterium abundance.\"],[\"PMC9939430: 16S amplicon\\u003cbr\\u003esequencing and shotgun\\u003cbr\\u003emetagenomics provide\\u003cbr\\u003ecomparable taxonomic accuracy\\u003cbr\\u003efor bacteria at the genus\\u003cbr\\u003elevel, but differ\\u003cbr\\u003esignificantly for fungal taxa.\\u003cbr\\u003eHarmonizing these data types\\u003cbr\\u003eallows for pooling into larger\\u003cbr\\u003edatasets, maintaining\\u003cbr\\u003econsistency across outcomes.\"],[\"PMC9940348: The study found\\u003cbr\\u003esignificant differences in the\\u003cbr\\u003ecomposition of the gut\\u003cbr\\u003emicrobiota and serum\\u003cbr\\u003emetabolite profiles between\\u003cbr\\u003epatients with spinal cord\\u003cbr\\u003einjury and healthy controls,\\u003cbr\\u003eindicating that gut dysbiosis\\u003cbr\\u003eand metabolite dysregulation\\u003cbr\\u003eare associated with the\\u003cbr\\u003eseverity and duration of the\\u003cbr\\u003einjury.\"],[\"PMC9940374: Synbiotic feeding\\u003cbr\\u003ein infants led to a lower\\u003cbr\\u003eabundance of Klebsiella,\\u003cbr\\u003ehigher abundance of\\u003cbr\\u003eBifidobacterium breve, and\\u003cbr\\u003eincreased anti-microbial\\u003cbr\\u003emetabolite d-3-phenyllactic\\u003cbr\\u003eacid, supporting its potential\\u003cbr\\u003ein preventing infections.\"],[\"PMC9940757: IBD patients with\\u003cbr\\u003eCDI exhibited pronounced\\u003cbr\\u003emicrobial dysbiosis,\\u003cbr\\u003echaracterized by decreased\\u003cbr\\u003ebacterial alpha diversity,\\u003cbr\\u003esignificant bacterial and\\u003cbr\\u003efungal beta diversity\\u003cbr\\u003evariations compared to healthy\\u003cbr\\u003econtrols, and specific\\u003cbr\\u003emicrobial and fungal taxa\\u003cbr\\u003eoverrepresentation.\"],[\"PMC9942320: Despite exercise\\u003cbr\\u003eand nutritional interventions,\\u003cbr\\u003ethe respiratory and intestinal\\u003cbr\\u003emicrobiomes of patients with\\u003cbr\\u003ecystic fibrosis remained\\u003cbr\\u003estable and were dominated by\\u003cbr\\u003edisease-associated pathogens.\"],[\"PMC9942572: The study found\\u003cbr\\u003ethat Clostridium innocuum is a\\u003cbr\\u003ehighly prevalent and\\u003cbr\\u003egenetically diverse species in\\u003cbr\\u003ethe human gut, with clade-\\u003cbr\\u003especific differences in\\u003cbr\\u003emetabolism and potential\\u003cbr\\u003evirulence.\"],[\"PMC9950735: The study found\\u003cbr\\u003edifferences in the species-\\u003cbr\\u003elevel diversity and metabolic\\u003cbr\\u003efunctions of Blautia in the\\u003cbr\\u003egut microbiota of Chinese\\u003cbr\\u003echildren with Down syndrome\\u003cbr\\u003ecompared to healthy controls,\\u003cbr\\u003eimpacting cognitive functions.\"],[\"PMC9950819: The infant gut\\u003cbr\\u003evirome, primarily composed of\\u003cbr\\u003ebacteriophages and human-host\\u003cbr\\u003eviruses, evolves over the\\u003cbr\\u003efirst three years to resemble\\u003cbr\\u003ethe maternal virome in phage\\u003cbr\\u003ecomposition but remains\\u003cbr\\u003edistinct in human-host virus\\u003cbr\\u003ecomposition.\"],[\"PMC9951051: Aging, chronic\\u003cbr\\u003epolypharmacy, and\\u003cbr\\u003edeprescribing differentially\\u003cbr\\u003eaffected the diversity and\\u003cbr\\u003ecomposition of the gut\\u003cbr\\u003emicrobiome in mice, with\\u003cbr\\u003eimplications for frailty and\\u003cbr\\u003efunctional outcomes.\"],[\"PMC9951700: The gut microbiota\\u003cbr\\u003eof captive blue sheep and red\\u003cbr\\u003edeer in China changes with\\u003cbr\\u003egrowth stages, but dominant\\u003cbr\\u003eflora remains stable;\\u003cbr\\u003esignificant inter-species\\u003cbr\\u003edifferences were observed.\"],[\"PMC9952780: Food-grade\\u003cbr\\u003enanoparticles (NPs) such as\\u003cbr\\u003eTiO\\u2082, SiO\\u2082, ZnO, and Fe\\u2082O\\u2083\\u003cbr\\u003ealter mineral transporter\\u003cbr\\u003eexpression, BBM functionality,\\u003cbr\\u003eand pro-inflammatory cytokine\\u003cbr\\u003egene expression, affecting\\u003cbr\\u003eintestinal development and\\u003cbr\\u003emicrobial populations in\\u003cbr\\u003ebroiler chickens.\"],[\"PMC9953204: The study found\\u003cbr\\u003esignificant differences in the\\u003cbr\\u003egut microbiota between\\u003cbr\\u003epreeclamptic and healthy\\u003cbr\\u003epregnant women, with\\u003cbr\\u003evariations in bacterial taxa\\u003cbr\\u003eand fungal diversity linked to\\u003cbr\\u003eBMI and gestational length.\"],[\"PMC9953218: Carvacrol\\u003cbr\\u003etreatment in mice reduced\\u003cbr\\u003epathogen loads and alleviated\\u003cbr\\u003esymptoms of\\u003cbr\\u003ecampylobacteriosis, including\\u003cbr\\u003ebloody diarrhea, with less\\u003cbr\\u003einflammatory and apoptotic\\u003cbr\\u003eresponses in the colon.\"],[\"PMC9956601: Infections with\\u003cbr\\u003eOpisthorchis viverrini,\\u003cbr\\u003eClonorchis sinensis, and\\u003cbr\\u003eOpisthorchis felineus cause\\u003cbr\\u003especies-specific qualitative\\u003cbr\\u003eand quantitative changes in\\u003cbr\\u003ethe microbiota of bile and\\u003cbr\\u003ecolon feces of infected\\u003cbr\\u003ehamsters.\"],[\"PMC9957911: Oral and\\u003cbr\\u003eintravenous iron treatments\\u003cbr\\u003ehad differing impacts on the\\u003cbr\\u003egut microbiota of anemic\\u003cbr\\u003emaintenance hemodialysis\\u003cbr\\u003epatients, with oral iron\\u003cbr\\u003ereducing microbial diversity\\u003cbr\\u003eand altering metabolic\\u003cbr\\u003eprocesses.\"],[\"PMC9958098: The study\\u003cbr\\u003eidentified three genera,\\u003cbr\\u003eAnaerosporobacter, Candidatus\\u003cbr\\u003eStoquefichus, and\\u003cbr\\u003eFournierella, negatively\\u003cbr\\u003ecorrelated with residual feed\\u003cbr\\u003eintake (RFI) and positively\\u003cbr\\u003einfluencing feed efficiency in\\u003cbr\\u003elaying hens.\"],[\"PMC9958568: Adding 400 mg\\u002fkg\\u003cbr\\u003eIle to the diet of broiler\\u003cbr\\u003echickens significantly\\u003cbr\\u003eimproved their production\\u003cbr\\u003eperformance and health status,\\u003cbr\\u003eincluding higher body weight,\\u003cbr\\u003ebetter feed conversion rate,\\u003cbr\\u003eand improved serum biochemical\\u003cbr\\u003emarkers.\"],[\"PMC9959319: The study\\u003cbr\\u003edemonstrated that antibiotic\\u003cbr\\u003etreatment with doripenem and\\u003cbr\\u003emeropenem alters the gut\\u003cbr\\u003emicrobiome and metabolomes in\\u003cbr\\u003eWistar rats, with observed\\u003cbr\\u003erecovery and overcompensation\\u003cbr\\u003ein microbial diversity and\\u003cbr\\u003emetabolite levels post-\\u003cbr\\u003etreatment.\"],[\"PMC9959971: Reduced alpha\\u003cbr\\u003ediversity in patients with\\u003cbr\\u003eosteoporosis and osteopenia\\u003cbr\\u003ecompared to healthy controls,\\u003cbr\\u003ewith significant differences\\u003cbr\\u003ein bacterial genera and\\u003cbr\\u003einteractions, suggesting\\u003cbr\\u003emicrobial community\\u003cbr\\u003einteraction is crucial in\\u003cbr\\u003epostmenopausal women with\\u003cbr\\u003ethese conditions.\"],[\"PMC9960910: Gut microbiota\\u003cbr\\u003eplays a critical role in\\u003cbr\\u003echolestatic liver injury, with\\u003cbr\\u003ereduced diversity and\\u003cbr\\u003eincreased Gram-negative\\u003cbr\\u003ebacteria associated with\\u003cbr\\u003ehigher levels of liver injury\\u003cbr\\u003emarkers in AIMD-BDL mice.\"],[\"PMC9961083: Supplier-origin\\u003cbr\\u003emicrobiomes in mice were\\u003cbr\\u003eassociated with significant\\u003cbr\\u003edifferences in fetal growth\\u003cbr\\u003eand adult intake, without\\u003cbr\\u003eaffecting fecal energy loss.\"],[\"PMC9962333: Ghanaian children\\u003cbr\\u003ewith acute gastroenteritis\\u003cbr\\u003e(AGE) exhibit lower microbial\\u003cbr\\u003ediversity and distinct\\u003cbr\\u003emicrobial profiles enriched\\u003cbr\\u003efor disease-associated genera\\u003cbr\\u003ecompared to healthy controls.\"],[\"PMC9962547: Dietary components\\u003cbr\\u003eare associated with the fecal\\u003cbr\\u003emicrobiome and metabolome, and\\u003cbr\\u003eliver health in people living\\u003cbr\\u003ewith HIV, with specific\\u003cbr\\u003edietary elements correlating\\u003cbr\\u003ewith lower fibrosis scores.\"],[\"PMC9963782: Distinct and\\u003cbr\\u003ediverse microbiomes were found\\u003cbr\\u003ein right- and left-sided colon\\u003cbr\\u003ecancers, with significant\\u003cbr\\u003echanges in the stool\\u003cbr\\u003emicrobiome post-surgery,\\u003cbr\\u003eincluding increased abundance\\u003cbr\\u003eof potentially pathogenic\\u003cbr\\u003ebacteria.\"],[\"PMC9964539: Shotgun\\u003cbr\\u003emetagenomics did not detect\\u003cbr\\u003eESBL or carbapenemase\\u003cbr\\u003edeterminants among resistance\\u003cbr\\u003egenes in patients previously\\u003cbr\\u003ediagnosed with acute leukemia,\\u003cbr\\u003eindicating true\\u003cbr\\u003edecolonization.\"],[\"PMC9964965: The study\\u003cbr\\u003eidentified significant\\u003cbr\\u003edifferences in the microbial\\u003cbr\\u003ecomposition of rumen and feces\\u003cbr\\u003ebetween high and low RFI beef\\u003cbr\\u003ecattle, with specific microbes\\u003cbr\\u003eassociated with dietary\\u003cbr\\u003enutrient utilization and host\\u003cbr\\u003egene expression.\"],[\"PMC9965051: Drinking tap water\\u003cbr\\u003ewas identified as the main\\u003cbr\\u003econtributor to increased\\u003cbr\\u003epotential antimicrobial\\u003cbr\\u003eresistance signatures in the\\u003cbr\\u003ePakistani adult cohort.\"],[\"PMC9965947: The study found\\u003cbr\\u003esignificant inter-individual\\u003cbr\\u003evariation in fungal diversity,\\u003cbr\\u003ewith Ascomycota and\\u003cbr\\u003eBasidiomycota being the\\u003cbr\\u003edominant fungal phyla, and\\u003cbr\\u003eidentified positive\\u003cbr\\u003ecorrelations between specific\\u003cbr\\u003efungi and bacteria, notably\\u003cbr\\u003ebetween Malassezia restricta\\u003cbr\\u003eand Bacteroides.\"],[\"PMC9966089: Lambs with higher\\u003cbr\\u003eaverage daily gain (ADG)\\u003cbr\\u003eshowed increased maturity in\\u003cbr\\u003ebacterial and fungal\\u003cbr\\u003ecommunities and distinct\\u003cbr\\u003emicrobial biomarkers in the\\u003cbr\\u003erumen and rectum compared to\\u003cbr\\u003ethose with lower ADG.\"],[\"PMC9966493: The study\\u003cbr\\u003edeveloped a reproducible model\\u003cbr\\u003efor gut microbiota\\u003cbr\\u003econditioning and B. fragilis\\u003cbr\\u003eengraftment in mice, showing\\u003cbr\\u003ethat specific antibiotic\\u003cbr\\u003etreatments can effectively\\u003cbr\\u003edeplete and then selectively\\u003cbr\\u003eenrich Bacteroides in the gut.\"],[\"PMC9966595: The study found\\u003cbr\\u003eseasonal variations in the gut\\u003cbr\\u003emicrobiota of muskrats, with\\u003cbr\\u003esignificant differences in\\u003cbr\\u003emicrobial composition and\\u003cbr\\u003emetabolic functions between\\u003cbr\\u003ethe breeding and non-breeding\\u003cbr\\u003eseasons.\"],[\"PMC9968942: Langurs in areas\\u003cbr\\u003ewith better habitats exhibited\\u003cbr\\u003ehigher gut microbiota\\u003cbr\\u003ediversity, with significant\\u003cbr\\u003edifferences in the abundance\\u003cbr\\u003eof specific bacterial families\\u003cbr\\u003ebetween groups.\"],[\"PMC9969080: LDSPs were\\u003cbr\\u003edegraded and utilized by human\\u003cbr\\u003egut microbiota, transforming\\u003cbr\\u003einto short-chain fatty acids\\u003cbr\\u003eand significantly decreasing\\u003cbr\\u003ethe pH of the fermentation\\u003cbr\\u003esolution, with a targeted\\u003cbr\\u003epromotion of butyrogenic\\u003cbr\\u003ebacteria like Blautia,\\u003cbr\\u003eRoseburia, and Bacteroides.\"],[\"PMC9970019: Lactobacillus\\u003cbr\\u003ereuteri was significantly\\u003cbr\\u003ereduced in the gut microbiota\\u003cbr\\u003eof mice with hepatocellular\\u003cbr\\u003ecarcinoma (HCC), and\\u003cbr\\u003esupplementation with L.\\u003cbr\\u003ereuteri or fecal bacteria from\\u003cbr\\u003ehealthy mice could enhance\\u003cbr\\u003eanticancer effects and\\u003cbr\\u003emodulate immune responses.\"],[\"PMC9971763: No significant\\u003cbr\\u003edifferences in gut microbiota\\u003cbr\\u003ediversity between psoriasis\\u003cbr\\u003epatients and healthy controls,\\u003cbr\\u003ebut distinct compositional\\u003cbr\\u003edifferences were observed,\\u003cbr\\u003eidentifying potential\\u003cbr\\u003emicrobial biomarkers for\\u003cbr\\u003epsoriasis.\"],[\"PMC9973153: Substituting more\\u003cbr\\u003ethan 30% of fish meal with soy\\u003cbr\\u003eprotein concentrate in diets\\u003cbr\\u003eof juvenile large yellow\\u003cbr\\u003ecroaker leads to reduced\\u003cbr\\u003egrowth performance, altered\\u003cbr\\u003eliver enzyme activities, and\\u003cbr\\u003echanges in intestinal\\u003cbr\\u003emicrobiota.\"],[\"PMC9973283: Microbiome\\u003cbr\\u003efeatures based on 16S rRNA\\u003cbr\\u003egene sequencing and\\u003cbr\\u003eunsupervised stratification of\\u003cbr\\u003eclinical parameters can\\u003cbr\\u003edistinguish between different\\u003cbr\\u003eglycometabolic states in\\u003cbr\\u003eadults, showing specific\\u003cbr\\u003emicrobial associations with\\u003cbr\\u003eglucose and insulin levels.\"],[\"PMC9974631: Patients with\\u003cbr\\u003edifferent subtypes of chronic\\u003cbr\\u003econstipation exhibited\\u003cbr\\u003edistinct microbial\\u003cbr\\u003ecompositions, influenced\\u003cbr\\u003esignificantly by psychological\\u003cbr\\u003efactors such as depression and\\u003cbr\\u003esleep quality.\"],[\"PMC9975432: The study observed\\u003cbr\\u003ea shift in the dominant\\u003cbr\\u003eBacteroides strain and changes\\u003cbr\\u003ein breath metabolite\\u003cbr\\u003ecomposition in a patient's gut\\u003cbr\\u003emicrobiome before and after\\u003cbr\\u003eantibiotic therapy.\"],[\"PMC9975759: Children with\\u003cbr\\u003ehigher IFN-\\u03b3 levels exhibited\\u003cbr\\u003emore severe autistic symptoms\\u003cbr\\u003eand distinct gut microbiota\\u003cbr\\u003ecompositions, including\\u003cbr\\u003edifferences in metabolic\\u003cbr\\u003efunctions and specific\\u003cbr\\u003ebacterial overrepresentations\\u003cbr\\u003eand underrepresentations.\"],[\"PMC9977275: The study\\u003cbr\\u003edemonstrates that both intra-\\u003cbr\\u003especies polymorphism and\\u003cbr\\u003estrain number in the human gut\\u003cbr\\u003emicrobiome are positively\\u003cbr\\u003ecorrelated with community\\u003cbr\\u003eShannon diversity, supporting\\u003cbr\\u003ethe Diversity Begets Diversity\\u003cbr\\u003ehypothesis.\"],[\"PMC9978182: Captive African\\u003cbr\\u003eand Asian elephants on the\\u003cbr\\u003esame diet have distinct gut\\u003cbr\\u003emicrobial communities, with\\u003cbr\\u003edifferences in bacterial\\u003cbr\\u003ecomposition, gene abundance in\\u003cbr\\u003efunctional subcategories, and\\u003cbr\\u003eantibiotic resistance genes.\"],[\"PMC9978850: No significant\\u003cbr\\u003edifferences in intestinal\\u003cbr\\u003eflora diversity and richness\\u003cbr\\u003eamong Weining cattle, Healthy\\u003cbr\\u003eAngus, and Diarrheal Angus;\\u003cbr\\u003ehigher abundance of beneficial\\u003cbr\\u003ebacteria in Weining cattle.\"],[\"PMC9978934: High pH had a\\u003cbr\\u003elarger impact than heat\\u003cbr\\u003etreatment on the microbiota,\\u003cbr\\u003eproducing more rapid\\u003cbr\\u003etransitional changes and\\u003cbr\\u003efacilitating indigo reduction\\u003cbr\\u003efrom day 7 in all batches.\"],[\"PMC9979421: Gut microbial\\u003cbr\\u003ecomposition in patients with\\u003cbr\\u003eestablished rheumatoid\\u003cbr\\u003earthritis differs from healthy\\u003cbr\\u003eindividuals and can predict\\u003cbr\\u003eresponses to second-line\\u003cbr\\u003ecsDMARDs in some patients.\"],[\"PMC9979425: Irinotecan\\u003cbr\\u003etreatment disrupts gut\\u003cbr\\u003emicrobiota in colon cancer\\u003cbr\\u003epatients, but probiotics can\\u003cbr\\u003emitigate its toxic effects by\\u003cbr\\u003ereducing \\u03b2-glucuronidase\\u003cbr\\u003eexpression and oxidative\\u003cbr\\u003estress.\"],[\"PMC9979494: Fecal microbiome\\u003cbr\\u003ediversity and composition in\\u003cbr\\u003eCynomys ludovicianus varied\\u003cbr\\u003esignificantly across urban and\\u003cbr\\u003erural habitats, with urban\\u003cbr\\u003eareas showing reduced\\u003cbr\\u003ediversity and higher abundance\\u003cbr\\u003eof pathogenic bacteria.\"],[\"PMC9979504: The study\\u003cbr\\u003edemonstrates a universal CRC-\\u003cbr\\u003eassociated microbiome pattern\\u003cbr\\u003ebut highlights regional\\u003cbr\\u003evariations, showing closest\\u003cbr\\u003ecorrelations with other Indian\\u003cbr\\u003ecohorts.\"],[\"PMC9980007: The study found\\u003cbr\\u003ethat the type VI secretion\\u003cbr\\u003esystem (T6SS) is repeatedly\\u003cbr\\u003elost from the genomes of\\u003cbr\\u003eBacteroides fragilis in adults\\u003cbr\\u003ecompared to infants,\\u003cbr\\u003esuggesting a significant\\u003cbr\\u003efitness cost to the T6SS,\\u003cbr\\u003ewhich varies depending on the\\u003cbr\\u003esurrounding microbial\\u003cbr\\u003ecommunity and their\\u003cbr\\u003esusceptibility to T6SS\\u003cbr\\u003eantagonism.\"],[\"PMC9980514: The gut microbiome\\u003cbr\\u003eof partially breastfed Kenyan\\u003cbr\\u003einfants over the age of six\\u003cbr\\u003emonths is enriched in\\u003cbr\\u003eBifidobacterium, including B.\\u003cbr\\u003einfantis, with a high\\u003cbr\\u003eprevalence of a specific human\\u003cbr\\u003emilk oligosaccharide group\\u003cbr\\u003eindicating a unique HMO-gut\\u003cbr\\u003emicrobiome association.\"],[\"PMC9980610: Probiotic\\u003cbr\\u003esupplementation showed\\u003cbr\\u003eparticipant-specific\\u003cbr\\u003eimprovements in triglycerides\\u003cbr\\u003eand diastolic blood pressure\\u003cbr\\u003eamong adults with metabolic\\u003cbr\\u003esyndrome, though overall\\u003cbr\\u003echanges in metabolic syndrome\\u003cbr\\u003emarkers were not observed.\"],[\"PMC9980621: Waxy starches in\\u003cbr\\u003egrains like sorghum, maize,\\u003cbr\\u003ewheat, and rice can negatively\\u003cbr\\u003eimpact the human gut\\u003cbr\\u003emicrobiome and host\\u003cbr\\u003ephysiology, leading to\\u003cbr\\u003eincreased weight gain and loss\\u003cbr\\u003eof beneficial microbial\\u003cbr\\u003esignatures when compared to\\u003cbr\\u003ewild type grains.\"],[\"PMC9980675: Distinctive\\u003cbr\\u003eenterotypes in the fecal\\u003cbr\\u003emicrobiota of women from\\u003cbr\\u003edifferent ethnic backgrounds\\u003cbr\\u003ein New Zealand are associated\\u003cbr\\u003ewith body mass index, body fat\\u003cbr\\u003ecomposition, and dietary\\u003cbr\\u003eintake.\"],[\"PMC9980703: The presence of\\u003cbr\\u003ethe Bacteroides 2 enterotype\\u003cbr\\u003eat baseline is associated with\\u003cbr\\u003elong-term disability worsening\\u003cbr\\u003ein MS patients, suggesting its\\u003cbr\\u003epotential as a prognostic\\u003cbr\\u003ebiomarker.\"],[\"PMC9981464: The study\\u003cbr\\u003eidentified interactions\\u003cbr\\u003ebetween host genetics and gut\\u003cbr\\u003emicrobiome, revealing that\\u003cbr\\u003eornithine lipids produced by\\u003cbr\\u003eAkkermansia muciniphila have\\u003cbr\\u003eimmunomodulatory effects and\\u003cbr\\u003eare influenced by host\\u003cbr\\u003egenetics.\"],[\"PMC9981903: The study found\\u003cbr\\u003esignificant correlations\\u003cbr\\u003ebetween antibiotic usage rates\\u003cbr\\u003eand the abundance and\\u003cbr\\u003ediversity of antimicrobial\\u003cbr\\u003eresistance genes (ARGs) across\\u003cbr\\u003edifferent countries, with\\u003cbr\\u003enotable outliers such as\\u003cbr\\u003eChina.\"],[\"PMC9982119: Supplemental\\u003cbr\\u003eprobiotic therapy does not\\u003cbr\\u003ereduce the risk of impaired\\u003cbr\\u003eglucose tolerance (IGT)\\u003cbr\\u003econversion to type 2 diabetes\\u003cbr\\u003emellitus (T2DM) over 6 years.\"],[\"PMC9983350: The study found\\u003cbr\\u003edynamic changes in the\\u003cbr\\u003ecolonization of fecal\\u003cbr\\u003emicrobiota in preterm infants,\\u003cbr\\u003ewith specific bacterial groups\\u003cbr\\u003eshowing varying patterns of\\u003cbr\\u003eabundance over time.\"],[\"PMC9983756: The study found\\u003cbr\\u003ediurnal oscillations in the\\u003cbr\\u003egut microbiota of alcohol\\u003cbr\\u003edependence patients, with\\u003cbr\\u003esignificant differences in\\u003cbr\\u003e\\u03b2-diversity and specific\\u003cbr\\u003ebacterial abundances compared\\u003cbr\\u003eto healthy controls.\"],[\"PMC9984101: Significant\\u003cbr\\u003edifferences in gut microbiota\\u003cbr\\u003ecomposition at the genus level\\u003cbr\\u003ewere observed between the\\u003cbr\\u003efirst and third trimesters of\\u003cbr\\u003epregnancy, with specific\\u003cbr\\u003egenera correlated with normal\\u003cbr\\u003eBMI.\"],[\"PMC9986023: Oral riboflavin\\u003cbr\\u003esupplementation significantly\\u003cbr\\u003eincreased butyrate production\\u003cbr\\u003ewithout major shifts in gut\\u003cbr\\u003emicrobiota composition, and\\u003cbr\\u003eenhanced the complexity and\\u003cbr\\u003estability of the bacterial\\u003cbr\\u003enetwork.\"],[\"PMC9986463: No significant\\u003cbr\\u003edifference in alpha-diversity\\u003cbr\\u003eof gut microbiota between\\u003cbr\\u003eDLBCL patients and healthy\\u003cbr\\u003econtrols, but significant\\u003cbr\\u003edecrease in beta-diversity and\\u003cbr\\u003especific bacterial abundances\\u003cbr\\u003ecorrelated with immune status\\u003cbr\\u003eand clinical features of\\u003cbr\\u003eDLBCL.\"],[\"PMC9986626: The gut microbiota\\u003cbr\\u003ecomposition significantly\\u003cbr\\u003ediffers between patients with\\u003cbr\\u003eand without immune-related\\u003cbr\\u003eadverse events (irAEs), and\\u003cbr\\u003emajor butyrate-producing\\u003cbr\\u003ebacteria were less abundant in\\u003cbr\\u003epatients with irAEs.\"],[\"PMC9987756: The study\\u003cbr\\u003eidentified two Korean oral\\u003cbr\\u003emicrobiome types and four\\u003cbr\\u003eoral-gut-associated microbiome\\u003cbr\\u003etypes in healthy Korean\\u003cbr\\u003eadults, demonstrating various\\u003cbr\\u003ebacterial compositional\\u003cbr\\u003enetworks centered around\\u003cbr\\u003eStreptococcus and Haemophilus.\"],[\"PMC9988748: Antibiotic\\u003cbr\\u003etreatment in rats led to\\u003cbr\\u003edysbiosis, characterized by\\u003cbr\\u003echanges in microbiome\\u003cbr\\u003estructure and species\\u003cbr\\u003erichness, with specific\\u003cbr\\u003ealterations in Bacteroidetes\\u003cbr\\u003eand Enterococcaceae\\u003cbr\\u003epopulations.\"],[\"PMC9990366: Supplementation of\\u003cbr\\u003elactating sows with BCAAs and\\u003cbr\\u003eArginine improved piglet\\u003cbr\\u003egrowth, immune competence, and\\u003cbr\\u003esurvivability by modulating\\u003cbr\\u003emetabolism, colostrum and milk\\u003cbr\\u003ecompositions, and intestinal\\u003cbr\\u003emicrobiota.\"],[\"PMC9990496: The study found\\u003cbr\\u003ethat high-fat diet\\u003cbr\\u003esignificantly alters gut\\u003cbr\\u003emicrobiota, while sleep\\u003cbr\\u003edeprivation primarily affects\\u003cbr\\u003ethe gut transcriptome, both of\\u003cbr\\u003ewhich significantly impact the\\u003cbr\\u003ebrain's inflammatory system.\"],[\"PMC9990653: The study found\\u003cbr\\u003ethat improvements in water\\u003cbr\\u003esupply infrastructure\\u003cbr\\u003esignificantly impacted the gut\\u003cbr\\u003emicrobiome composition and\\u003cbr\\u003ereduced enteric pathogen\\u003cbr\\u003einfections in infants.\"],[\"PMC9991858: Perilla oil intake\\u003cbr\\u003eimproves gut function and\\u003cbr\\u003emicrobiota in female athletes,\\u003cbr\\u003ewith higher doses resulting in\\u003cbr\\u003efurther improvement.\"],[\"PMC9992493: The study found\\u003cbr\\u003ethat the intake of a dog-treat\\u003cbr\\u003econtaining heme-SCP altered\\u003cbr\\u003ethe gut microbiota of dogs,\\u003cbr\\u003eincreasing the proportion of\\u003cbr\\u003eFirmicutes and decreasing\\u003cbr\\u003eProteobacteria, Bacteroidetes,\\u003cbr\\u003eand Fusobacteria.\"],[\"PMC9993198: Significant\\u003cbr\\u003edifferences in gut microbiome\\u003cbr\\u003ecomposition were observed\\u003cbr\\u003ebetween asthma patients and\\u003cbr\\u003ehealthy controls, with asthma\\u003cbr\\u003epatients showing reduced\\u003cbr\\u003ebacterial diversity and\\u003cbr\\u003edispersed community\\u003cbr\\u003ecompositions.\"],[\"PMC9994099: Captive deer mice\\u003cbr\\u003eexhibit distinct gut\\u003cbr\\u003emicrobiota compared to free-\\u003cbr\\u003eliving deer mice, and urban\\u003cbr\\u003eliving influences gut\\u003cbr\\u003emicrobial composition and\\u003cbr\\u003ediversity in deer mice.\"],[\"PMC9994484: In mdx mice, a\\u003cbr\\u003emodel of Duchenne muscular\\u003cbr\\u003edystrophy, gut microbiota\\u003cbr\\u003ecomposition and metabolite\\u003cbr\\u003elevels were significantly\\u003cbr\\u003ealtered compared to healthy\\u003cbr\\u003econtrols; sodium butyrate\\u003cbr\\u003esupplementation restored\\u003cbr\\u003emuscle strength and reduced\\u003cbr\\u003einflammation.\"],[\"PMC9994644: Cryptococcal\\u003cbr\\u003emeningitis patients exhibited\\u003cbr\\u003edistinct gut microbiota\\u003cbr\\u003edysbiosis compared to healthy\\u003cbr\\u003econtrols, with specific\\u003cbr\\u003ebacterial and fungal species\\u003cbr\\u003edifferentially abundant.\"],[\"PMC9995389: Oral\\u003cbr\\u003eadministration of heat-treated\\u003cbr\\u003eLactiplantibacillus plantarum\\u003cbr\\u003eOLL2712 in a high-fat diet-fed\\u003cbr\\u003emouse model alleviated\\u003cbr\\u003eobesity-induced inflammation\\u003cbr\\u003eand improved gut barrier\\u003cbr\\u003efunction.\"],[\"PMC9995838: Cecal microbiota\\u003cbr\\u003eexplained 10.1% of the\\u003cbr\\u003evariation in chicken weights,\\u003cbr\\u003ewith specific bacterial genera\\u003cbr\\u003eidentified that positively or\\u003cbr\\u003enegatively influenced growth.\"],[\"PMC9995840: High altitude\\u003cbr\\u003eenvironments significantly\\u003cbr\\u003eincrease gut microbiota\\u003cbr\\u003ediversity and drive\\u003cbr\\u003econvergence among different\\u003cbr\\u003especies, influenced by diet\\u003cbr\\u003eand environmental pressures.\"],[\"PMC9996337: Individuals with\\u003cbr\\u003eMA use disorder (MUD)\\u003cbr\\u003eexhibited higher incidences of\\u003cbr\\u003eneuropsychiatric and\\u003cbr\\u003ewithdrawal symptoms, stronger\\u003cbr\\u003ecravings, and increased MA\\u003cbr\\u003etolerance compared to casual\\u003cbr\\u003eMA users, with significant\\u003cbr\\u003edifferences in gut microbiota\\u003cbr\\u003ecomposition, particularly in\\u003cbr\\u003ethe genera Halomonas,\\u003cbr\\u003eClostridium, Devosia, and\\u003cbr\\u003eDorea.\"],[\"PMC9996363: The maternal\\u003cbr\\u003eprenatal gut microbiome has a\\u003cbr\\u003emore significant association\\u003cbr\\u003ewith children's\\u003cbr\\u003eneurodevelopment in the first\\u003cbr\\u003eyear of life compared to the\\u003cbr\\u003echildren's own gut microbiome.\"],[\"PMC9996666: Administration of\\u003cbr\\u003ea prebiotic fiber supplement\\u003cbr\\u003eduring short-term metformin\\u003cbr\\u003etherapy was well tolerated in\\u003cbr\\u003eyouth with type 2 diabetes\\u003cbr\\u003emellitus and associated with\\u003cbr\\u003emodest shifts in microbial\\u003cbr\\u003ecomposition.\"],[\"PMC9997005: IL-22 treatment\\u003cbr\\u003emodulates gut microbiome\\u003cbr\\u003ecomposition and function,\\u003cbr\\u003eenhancing AhR signaling and\\u003cbr\\u003epotentially offering\\u003cbr\\u003etherapeutic benefits in\\u003cbr\\u003eulcerative colitis.\"],[\"PMC9997614: VIP signaling\\u003cbr\\u003ethrough VPAC1 is critical for\\u003cbr\\u003emaintaining normal gut\\u003cbr\\u003emicrobiota function, with\\u003cbr\\u003edisruptions leading to\\u003cbr\\u003esignificant changes in\\u003cbr\\u003emicrobial diversity and\\u003cbr\\u003emetabolic pathways.\"],[\"PMC9997628: Physical activity\\u003cbr\\u003ewas positively associated with\\u003cbr\\u003ethe abundance of\\u003cbr\\u003eFaecalibacterium and\\u003cbr\\u003enegatively with Alistipes,\\u003cbr\\u003eParabacteroides, and Gemmiger,\\u003cbr\\u003eas well as with concentrations\\u003cbr\\u003eof acetate, butyrate, and\\u003cbr\\u003etotal SCFA.\"],[\"PMC9998685: Repeated courses\\u003cbr\\u003eand increased duration of\\u003cbr\\u003eantibiotic use in pediatric\\u003cbr\\u003eleukemia and lymphoma patients\\u003cbr\\u003eled to a decrease in\\u003cbr\\u003eBacteroidetes and \\u03b2-lactam\\u003cbr\\u003eresistance genes, and an\\u003cbr\\u003eincrease in opportunistic\\u003cbr\\u003eFirmicutes, Proteobacteria,\\u003cbr\\u003eand multidrug resistance\\u003cbr\\u003egenes.\"],[\"PMC9998695: The gut microbiota\\u003cbr\\u003eof plateau zokors on the\\u003cbr\\u003eTibetan plateau is enriched in\\u003cbr\\u003especies related to energy\\u003cbr\\u003emetabolism and SCFAs\\u003cbr\\u003eproduction, and shows\\u003cbr\\u003esignificant enrichment in\\u003cbr\\u003ecarbohydrate uptake pathways\\u003cbr\\u003eand tripeptidyl-peptidase II,\\u003cbr\\u003eaiding in energy uptake and\\u003cbr\\u003ereducing inflammatory\\u003cbr\\u003eresponses under extreme\\u003cbr\\u003econditions.\"],[\"PMC9998913: The study\\u003cbr\\u003edeveloped a workflow named\\u003cbr\\u003escALA to construct complete\\u003cbr\\u003ecircular single-cell amplified\\u003cbr\\u003egenomes (cSAGs) from human\\u003cbr\\u003efecal samples, revealing\\u003cbr\\u003estrain-specific structural\\u003cbr\\u003evariations and different\\u003cbr\\u003emetabolic capabilities among\\u003cbr\\u003estrains.\"],[\"PMC9998919: Significant\\u003cbr\\u003edifferences in gut microbiota\\u003cbr\\u003ewere observed between control\\u003cbr\\u003eindividuals and heart failure\\u003cbr\\u003epatients with or without\\u003cbr\\u003esarcopenia, with specific\\u003cbr\\u003ebacterial groups enriched in\\u003cbr\\u003eeach patient category.\"],[\"PMC9998945: Supplementation\\u003cbr\\u003ewith SCFP stabilized alpha\\u003cbr\\u003ediversity in horses' gut\\u003cbr\\u003emicrobiomes under stress,\\u003cbr\\u003ecompared to controls which\\u003cbr\\u003eshowed more fluctuation.\"],[\"PMC9999011: Seasonal factors\\u003cbr\\u003esignificantly affect\\u003cbr\\u003eintestinal water metabolism\\u003cbr\\u003eand the composition of\\u003cbr\\u003eintestinal flora in rats, with\\u003cbr\\u003ehigh temperature and humidity\\u003cbr\\u003eincreasing intestinal water\\u003cbr\\u003econtent and low temperature\\u003cbr\\u003eand humidity decreasing it.\"]],\"hovertemplate\":\" %{customdata[0]}\",\"legendgroup\":\"\",\"marker\":{\"color\":\"#636efa\",\"symbol\":\"circle\"},\"mode\":\"markers\",\"name\":\"\",\"orientation\":\"v\",\"showlegend\":false,\"x\":[8.507306098937988,5.081929683685303,1.0320765972137451,6.3364410400390625,7.824035167694092,3.4508676528930664,9.428293228149414,10.055551528930664,8.05712604522705,5.673602104187012,10.252541542053223,9.533557891845703,6.544611930847168,10.844487190246582,1.0504618883132935,8.624848365783691,5.604189395904541,5.463818550109863,11.039122581481934,3.3329334259033203,1.1926648616790771,9.66527271270752,8.167287826538086,6.634763717651367,6.398746013641357,5.60859489440918,5.30370569229126,9.628874778747559,5.051565170288086,8.012228012084961,6.48421573638916,6.737968921661377,6.349921226501465,4.412844657897949,6.513478755950928,7.0665202140808105,8.668879508972168,9.268598556518555,11.193349838256836,10.154972076416016,9.316840171813965,6.124528884887695,3.3459436893463135,11.187850952148438,9.045351028442383,0.5454398989677429,1.0880391597747803,5.3107686042785645,0.6282340884208679,10.928153038024902,3.6104061603546143,10.252683639526367,10.804611206054688,4.849934101104736,5.752556800842285,5.683839321136475,6.064058780670166,1.1452491283416748,6.855220794677734,3.5144565105438232,5.923048973083496,5.107799530029297,7.941495418548584,7.163116931915283,10.501587867736816,7.901561260223389,11.09638786315918,8.715032577514648,3.112048864364624,4.426938533782959,8.176187515258789,10.232959747314453,5.10231876373291,9.233960151672363,1.644093632698059,9.364047050476074,8.007345199584961,3.6198973655700684,6.661164283752441,8.330698013305664,5.168353080749512,6.3760809898376465,5.491559982299805,4.355208396911621,6.815792560577393,7.968857765197754,7.860333442687988,7.722135543823242,8.796964645385742,5.273036479949951,6.717553615570068,8.434785842895508,1.8660321235656738,4.605403423309326,8.91860580444336,6.28845739364624,6.734217166900635,10.471583366394043,8.6268949508667,8.428364753723145,5.33024787902832,11.779648780822754,7.971374034881592,7.8353986740112305,5.244204998016357,5.830760478973389,6.766685962677002,10.984209060668945,8.373421669006348,10.108471870422363,5.312277317047119,5.8739013671875,8.012809753417969,6.43900203704834,4.0502190589904785,0.9604334831237793,11.068710327148438,11.280226707458496,10.586997032165527,5.13774299621582,11.171330451965332,10.364563941955566,10.55176067352295,12.15306568145752,4.577338218688965,5.26031494140625,5.426173686981201,8.265758514404297,1.8763233423233032,9.51483154296875,10.439411163330078,6.367056846618652,10.483122825622559,12.055566787719727,11.75411319732666,6.488514423370361,5.689776420593262,5.285472393035889,12.162803649902344,1.1738413572311401,10.315213203430176,8.763418197631836,4.065423011779785,11.31029987335205,10.138160705566406,5.557546615600586,10.263057708740234,10.867051124572754,3.8684959411621094,8.791009902954102,8.786845207214355,7.925314426422119,4.406540393829346,5.759898662567139,5.634740829467773,10.216390609741211,10.292102813720703,8.65853214263916,11.131256103515625,10.533248901367188,9.066545486450195,5.987277984619141,5.620507717132568,12.005825996398926,4.506659507751465,5.75349235534668,5.206432819366455,10.931941032409668,11.489375114440918,8.683753967285156,8.146364212036133,3.7789931297302246,5.694282531738281,6.2726898193359375,9.059386253356934,10.887635231018066,11.36458969116211,1.4423174858093262,6.576936721801758,5.905057430267334,10.762039184570312],\"xaxis\":\"x\",\"y\":[10.6742525100708,4.561610221862793,7.710030555725098,7.176585674285889,7.145886421203613,6.743300914764404,11.045906066894531,5.188469886779785,10.039715766906738,5.473438262939453,5.745380401611328,4.817927837371826,4.26253604888916,10.111485481262207,7.908470630645752,3.921638250350952,4.440932750701904,5.40018892288208,6.0805840492248535,6.914427757263184,7.401771545410156,4.905735015869141,6.5218281745910645,4.227194309234619,5.090151309967041,8.94101619720459,4.72535514831543,10.842687606811523,4.502833366394043,4.696531772613525,5.135170936584473,4.422888278961182,4.98730993270874,4.842496395111084,7.029307842254639,9.394765853881836,3.8435702323913574,6.323966979980469,5.504251956939697,6.119795799255371,5.405951499938965,9.656349182128906,6.9154839515686035,5.454225540161133,3.9908456802368164,7.888105869293213,7.485673904418945,4.923398494720459,7.809629440307617,6.262264251708984,7.233946800231934,6.065637588500977,6.221359729766846,8.166252136230469,8.827800750732422,4.958284378051758,9.537978172302246,7.618818759918213,5.401823997497559,6.294011116027832,5.290984153747559,9.486467361450195,10.88059139251709,9.374845504760742,6.109762668609619,10.96834945678711,5.546988010406494,10.441855430603027,6.848072528839111,3.923279047012329,5.4275593757629395,5.323558330535889,9.498737335205078,4.145960330963135,6.804146766662598,11.12399673461914,5.443316459655762,7.2700066566467285,4.474460124969482,10.581061363220215,9.428583145141602,4.13893461227417,4.2382073402404785,7.958419322967529,9.112884521484375,7.529754161834717,4.933560848236084,5.474555015563965,5.32277250289917,6.319477558135986,9.785438537597656,10.50920581817627,6.634282112121582,4.602537155151367,11.117639541625977,4.732698440551758,5.42363977432251,5.089084625244141,3.9784610271453857,10.407672882080078,6.276827812194824,3.9167773723602295,11.151330947875977,7.118232727050781,8.387584686279297,7.443244457244873,9.230364799499512,3.3816373348236084,11.497303009033203,10.573610305786133,6.259092330932617,7.5293049812316895,7.661275863647461,6.9054999351501465,5.296957015991211,7.662478446960449,10.301056861877441,3.2745609283447266,9.268169403076172,4.427863597869873,3.2721774578094482,10.238635063171387,4.619707107543945,3.93989896774292,4.212965965270996,8.407629013061523,4.938678741455078,11.532578468322754,6.668962478637695,6.22784423828125,10.279943466186523,5.053705215454102,5.097895622253418,3.8592827320098877,3.6009461879730225,9.426657676696777,8.054708480834961,8.336647987365723,3.8515772819519043,7.608954429626465,10.150544166564941,10.926909446716309,7.804238319396973,5.247978687286377,6.074386119842529,4.331920623779297,5.507103443145752,10.021832466125488,7.632737636566162,10.480277061462402,4.0052385330200195,7.181502819061279,3.9148147106170654,4.719777584075928,8.190594673156738,5.476340293884277,10.382555961608887,11.420066833496094,6.028496742248535,9.194258689880371,5.37575626373291,9.7100830078125,5.24863862991333,3.7927420139312744,4.267841815948486,4.470465660095215,8.270709037780762,3.398198127746582,4.319774150848389,3.7812159061431885,10.379866600036621,7.516360282897949,8.099424362182617,7.222667694091797,5.149087905883789,10.172759056091309,4.41323709487915,6.966545581817627,9.626204490661621,9.68687915802002,4.526801586151123],\"yaxis\":\"y\",\"type\":\"scatter\"}],                        {\"template\":{\"data\":{\"histogram2dcontour\":[{\"type\":\"histogram2dcontour\",\"colorbar\":{\"outlinewidth\":0,\"ticks\":\"\"},\"colorscale\":[[0.0,\"#0d0887\"],[0.1111111111111111,\"#46039f\"],[0.2222222222222222,\"#7201a8\"],[0.3333333333333333,\"#9c179e\"],[0.4444444444444444,\"#bd3786\"],[0.5555555555555556,\"#d8576b\"],[0.6666666666666666,\"#ed7953\"],[0.7777777777777778,\"#fb9f3a\"],[0.8888888888888888,\"#fdca26\"],[1.0,\"#f0f921\"]]}],\"choropleth\":[{\"type\":\"choropleth\",\"colorbar\":{\"outlinewidth\":0,\"ticks\":\"\"}}],\"histogram2d\":[{\"type\":\"histogram2d\",\"colorbar\":{\"outlinewidth\":0,\"ticks\":\"\"},\"colorscale\":[[0.0,\"#0d0887\"],[0.1111111111111111,\"#46039f\"],[0.2222222222222222,\"#7201a8\"],[0.3333333333333333,\"#9c179e\"],[0.4444444444444444,\"#bd3786\"],[0.5555555555555556,\"#d8576b\"],[0.6666666666666666,\"#ed7953\"],[0.7777777777777778,\"#fb9f3a\"],[0.8888888888888888,\"#fdca26\"],[1.0,\"#f0f921\"]]}],\"heatmap\":[{\"type\":\"heatmap\",\"colorbar\":{\"outlinewidth\":0,\"ticks\":\"\"},\"colorscale\":[[0.0,\"#0d0887\"],[0.1111111111111111,\"#46039f\"],[0.2222222222222222,\"#7201a8\"],[0.3333333333333333,\"#9c179e\"],[0.4444444444444444,\"#bd3786\"],[0.5555555555555556,\"#d8576b\"],[0.6666666666666666,\"#ed7953\"],[0.7777777777777778,\"#fb9f3a\"],[0.8888888888888888,\"#fdca26\"],[1.0,\"#f0f921\"]]}],\"heatmapgl\":[{\"type\":\"heatmapgl\",\"colorbar\":{\"outlinewidth\":0,\"ticks\":\"\"},\"colorscale\":[[0.0,\"#0d0887\"],[0.1111111111111111,\"#46039f\"],[0.2222222222222222,\"#7201a8\"],[0.3333333333333333,\"#9c179e\"],[0.4444444444444444,\"#bd3786\"],[0.5555555555555556,\"#d8576b\"],[0.6666666666666666,\"#ed7953\"],[0.7777777777777778,\"#fb9f3a\"],[0.8888888888888888,\"#fdca26\"],[1.0,\"#f0f921\"]]}],\"contourcarpet\":[{\"type\":\"contourcarpet\",\"colorbar\":{\"outlinewidth\":0,\"ticks\":\"\"}}],\"contour\":[{\"type\":\"contour\",\"colorbar\":{\"outlinewidth\":0,\"ticks\":\"\"},\"colorscale\":[[0.0,\"#0d0887\"],[0.1111111111111111,\"#46039f\"],[0.2222222222222222,\"#7201a8\"],[0.3333333333333333,\"#9c179e\"],[0.4444444444444444,\"#bd3786\"],[0.5555555555555556,\"#d8576b\"],[0.6666666666666666,\"#ed7953\"],[0.7777777777777778,\"#fb9f3a\"],[0.8888888888888888,\"#fdca26\"],[1.0,\"#f0f921\"]]}],\"surface\":[{\"type\":\"surface\",\"colorbar\":{\"outlinewidth\":0,\"ticks\":\"\"},\"colorscale\":[[0.0,\"#0d0887\"],[0.1111111111111111,\"#46039f\"],[0.2222222222222222,\"#7201a8\"],[0.3333333333333333,\"#9c179e\"],[0.4444444444444444,\"#bd3786\"],[0.5555555555555556,\"#d8576b\"],[0.6666666666666666,\"#ed7953\"],[0.7777777777777778,\"#fb9f3a\"],[0.8888888888888888,\"#fdca26\"],[1.0,\"#f0f921\"]]}],\"mesh3d\":[{\"type\":\"mesh3d\",\"colorbar\":{\"outlinewidth\":0,\"ticks\":\"\"}}],\"scatter\":[{\"fillpattern\":{\"fillmode\":\"overlay\",\"size\":10,\"solidity\":0.2},\"type\":\"scatter\"}],\"parcoords\":[{\"type\":\"parcoords\",\"line\":{\"colorbar\":{\"outlinewidth\":0,\"ticks\":\"\"}}}],\"scatterpolargl\":[{\"type\":\"scatterpolargl\",\"marker\":{\"colorbar\":{\"outlinewidth\":0,\"ticks\":\"\"}}}],\"bar\":[{\"error_x\":{\"color\":\"#2a3f5f\"},\"error_y\":{\"color\":\"#2a3f5f\"},\"marker\":{\"line\":{\"color\":\"#E5ECF6\",\"width\":0.5},\"pattern\":{\"fillmode\":\"overlay\",\"size\":10,\"solidity\":0.2}},\"type\":\"bar\"}],\"scattergeo\":[{\"type\":\"scattergeo\",\"marker\":{\"colorbar\":{\"outlinewidth\":0,\"ticks\":\"\"}}}],\"scatterpolar\":[{\"type\":\"scatterpolar\",\"marker\":{\"colorbar\":{\"outlinewidth\":0,\"ticks\":\"\"}}}],\"histogram\":[{\"marker\":{\"pattern\":{\"fillmode\":\"overlay\",\"size\":10,\"solidity\":0.2}},\"type\":\"histogram\"}],\"scattergl\":[{\"type\":\"scattergl\",\"marker\":{\"colorbar\":{\"outlinewidth\":0,\"ticks\":\"\"}}}],\"scatter3d\":[{\"type\":\"scatter3d\",\"line\":{\"colorbar\":{\"outlinewidth\":0,\"ticks\":\"\"}},\"marker\":{\"colorbar\":{\"outlinewidth\":0,\"ticks\":\"\"}}}],\"scattermapbox\":[{\"type\":\"scattermapbox\",\"marker\":{\"colorbar\":{\"outlinewidth\":0,\"ticks\":\"\"}}}],\"scatterternary\":[{\"type\":\"scatterternary\",\"marker\":{\"colorbar\":{\"outlinewidth\":0,\"ticks\":\"\"}}}],\"scattercarpet\":[{\"type\":\"scattercarpet\",\"marker\":{\"colorbar\":{\"outlinewidth\":0,\"ticks\":\"\"}}}],\"carpet\":[{\"aaxis\":{\"endlinecolor\":\"#2a3f5f\",\"gridcolor\":\"white\",\"linecolor\":\"white\",\"minorgridcolor\":\"white\",\"startlinecolor\":\"#2a3f5f\"},\"baxis\":{\"endlinecolor\":\"#2a3f5f\",\"gridcolor\":\"white\",\"linecolor\":\"white\",\"minorgridcolor\":\"white\",\"startlinecolor\":\"#2a3f5f\"},\"type\":\"carpet\"}],\"table\":[{\"cells\":{\"fill\":{\"color\":\"#EBF0F8\"},\"line\":{\"color\":\"white\"}},\"header\":{\"fill\":{\"color\":\"#C8D4E3\"},\"line\":{\"color\":\"white\"}},\"type\":\"table\"}],\"barpolar\":[{\"marker\":{\"line\":{\"color\":\"#E5ECF6\",\"width\":0.5},\"pattern\":{\"fillmode\":\"overlay\",\"size\":10,\"solidity\":0.2}},\"type\":\"barpolar\"}],\"pie\":[{\"automargin\":true,\"type\":\"pie\"}]},\"layout\":{\"autotypenumbers\":\"strict\",\"colorway\":[\"#636efa\",\"#EF553B\",\"#00cc96\",\"#ab63fa\",\"#FFA15A\",\"#19d3f3\",\"#FF6692\",\"#B6E880\",\"#FF97FF\",\"#FECB52\"],\"font\":{\"color\":\"#2a3f5f\"},\"hovermode\":\"closest\",\"hoverlabel\":{\"align\":\"left\"},\"paper_bgcolor\":\"white\",\"plot_bgcolor\":\"#E5ECF6\",\"polar\":{\"bgcolor\":\"#E5ECF6\",\"angularaxis\":{\"gridcolor\":\"white\",\"linecolor\":\"white\",\"ticks\":\"\"},\"radialaxis\":{\"gridcolor\":\"white\",\"linecolor\":\"white\",\"ticks\":\"\"}},\"ternary\":{\"bgcolor\":\"#E5ECF6\",\"aaxis\":{\"gridcolor\":\"white\",\"linecolor\":\"white\",\"ticks\":\"\"},\"baxis\":{\"gridcolor\":\"white\",\"linecolor\":\"white\",\"ticks\":\"\"},\"caxis\":{\"gridcolor\":\"white\",\"linecolor\":\"white\",\"ticks\":\"\"}},\"coloraxis\":{\"colorbar\":{\"outlinewidth\":0,\"ticks\":\"\"}},\"colorscale\":{\"sequential\":[[0.0,\"#0d0887\"],[0.1111111111111111,\"#46039f\"],[0.2222222222222222,\"#7201a8\"],[0.3333333333333333,\"#9c179e\"],[0.4444444444444444,\"#bd3786\"],[0.5555555555555556,\"#d8576b\"],[0.6666666666666666,\"#ed7953\"],[0.7777777777777778,\"#fb9f3a\"],[0.8888888888888888,\"#fdca26\"],[1.0,\"#f0f921\"]],\"sequentialminus\":[[0.0,\"#0d0887\"],[0.1111111111111111,\"#46039f\"],[0.2222222222222222,\"#7201a8\"],[0.3333333333333333,\"#9c179e\"],[0.4444444444444444,\"#bd3786\"],[0.5555555555555556,\"#d8576b\"],[0.6666666666666666,\"#ed7953\"],[0.7777777777777778,\"#fb9f3a\"],[0.8888888888888888,\"#fdca26\"],[1.0,\"#f0f921\"]],\"diverging\":[[0,\"#8e0152\"],[0.1,\"#c51b7d\"],[0.2,\"#de77ae\"],[0.3,\"#f1b6da\"],[0.4,\"#fde0ef\"],[0.5,\"#f7f7f7\"],[0.6,\"#e6f5d0\"],[0.7,\"#b8e186\"],[0.8,\"#7fbc41\"],[0.9,\"#4d9221\"],[1,\"#276419\"]]},\"xaxis\":{\"gridcolor\":\"white\",\"linecolor\":\"white\",\"ticks\":\"\",\"title\":{\"standoff\":15},\"zerolinecolor\":\"white\",\"automargin\":true,\"zerolinewidth\":2},\"yaxis\":{\"gridcolor\":\"white\",\"linecolor\":\"white\",\"ticks\":\"\",\"title\":{\"standoff\":15},\"zerolinecolor\":\"white\",\"automargin\":true,\"zerolinewidth\":2},\"scene\":{\"xaxis\":{\"backgroundcolor\":\"#E5ECF6\",\"gridcolor\":\"white\",\"linecolor\":\"white\",\"showbackground\":true,\"ticks\":\"\",\"zerolinecolor\":\"white\",\"gridwidth\":2},\"yaxis\":{\"backgroundcolor\":\"#E5ECF6\",\"gridcolor\":\"white\",\"linecolor\":\"white\",\"showbackground\":true,\"ticks\":\"\",\"zerolinecolor\":\"white\",\"gridwidth\":2},\"zaxis\":{\"backgroundcolor\":\"#E5ECF6\",\"gridcolor\":\"white\",\"linecolor\":\"white\",\"showbackground\":true,\"ticks\":\"\",\"zerolinecolor\":\"white\",\"gridwidth\":2}},\"shapedefaults\":{\"line\":{\"color\":\"#2a3f5f\"}},\"annotationdefaults\":{\"arrowcolor\":\"#2a3f5f\",\"arrowhead\":0,\"arrowwidth\":1},\"geo\":{\"bgcolor\":\"white\",\"landcolor\":\"#E5ECF6\",\"subunitcolor\":\"white\",\"showland\":true,\"showlakes\":true,\"lakecolor\":\"white\"},\"title\":{\"x\":0.05},\"mapbox\":{\"style\":\"light\"}}},\"xaxis\":{\"anchor\":\"y\",\"domain\":[0.0,1.0],\"title\":{\"text\":\"UMAP 1\"}},\"yaxis\":{\"anchor\":\"x\",\"domain\":[0.0,1.0],\"title\":{\"text\":\"UMAP 2\"}},\"legend\":{\"tracegroupgap\":0},\"margin\":{\"t\":60},\"title\":{\"text\":\"Key findings of Human Gut Microbiome research\"},\"width\":800,\"height\":600},                        {\"responsive\": true}                    ).then(function(){\n",
       "                            \n",
       "var gd = document.getElementById('ddbc0c84-7a13-473d-9f89-7e55c4255e81');\n",
       "var x = new MutationObserver(function (mutations, observer) {{\n",
       "        var display = window.getComputedStyle(gd).display;\n",
       "        if (!display || display === 'none') {{\n",
       "            console.log([gd, 'removed!']);\n",
       "            Plotly.purge(gd);\n",
       "            observer.disconnect();\n",
       "        }}\n",
       "}});\n",
       "\n",
       "// Listen for the removal of the full notebook cells\n",
       "var notebookContainer = gd.closest('#notebook-container');\n",
       "if (notebookContainer) {{\n",
       "    x.observe(notebookContainer, {childList: true});\n",
       "}}\n",
       "\n",
       "// Listen for the clearing of the current output cell\n",
       "var outputEl = gd.closest('.output');\n",
       "if (outputEl) {{\n",
       "    x.observe(outputEl, {childList: true});\n",
       "}}\n",
       "\n",
       "                        })                };                });            </script>        </div>"
      ]
     },
     "metadata": {},
     "output_type": "display_data"
    }
   ],
   "source": [
    "fig = px.scatter(x=coords[:, 0], y=coords[:, 1],\n",
    "                 labels={'x': 'UMAP 1', 'y': 'UMAP 2'},\n",
    "                 hover_data={'KeyFinding': wrapped_keyfindings})\n",
    "fig.update_layout(\n",
    "    title='Key findings of Human Gut Microbiome research',\n",
    "    width=800,  # キャンバスの幅を800ピクセルに設定\n",
    "    height=600  # キャンバスの高さを600ピクセルに設定\n",
    ")\n",
    "fig.update_traces(\n",
    "    hovertemplate=' %{customdata[0]}'\n",
    ")\n",
    "fig.show()"
   ]
  },
  {
   "cell_type": "code",
   "execution_count": null,
   "metadata": {},
   "outputs": [],
   "source": []
  },
  {
   "cell_type": "code",
   "execution_count": null,
   "metadata": {},
   "outputs": [],
   "source": []
  }
 ],
 "metadata": {
  "kernelspec": {
   "display_name": "Python 3 (ipykernel)",
   "language": "python",
   "name": "python3"
  },
  "language_info": {
   "codemirror_mode": {
    "name": "ipython",
    "version": 3
   },
   "file_extension": ".py",
   "mimetype": "text/x-python",
   "name": "python",
   "nbconvert_exporter": "python",
   "pygments_lexer": "ipython3",
   "version": "3.10.13"
  }
 },
 "nbformat": 4,
 "nbformat_minor": 4
}
